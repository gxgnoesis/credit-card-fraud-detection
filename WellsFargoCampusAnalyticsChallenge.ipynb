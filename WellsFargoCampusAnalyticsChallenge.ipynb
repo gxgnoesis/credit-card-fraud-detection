{
 "cells": [
  {
   "cell_type": "code",
   "execution_count": 82,
   "metadata": {
    "id": "jLGzivJKhXZc"
   },
   "outputs": [],
   "source": [
    "import pandas as pd\n",
    "from datetime import date\n",
    "import datetime\n",
    "import numpy as np\n",
    "\n",
    "import seaborn as sns\n",
    "import matplotlib.pyplot as plt\n",
    "\n",
    "import warnings\n",
    "warnings.filterwarnings(\"ignore\")"
   ]
  },
  {
   "cell_type": "markdown",
   "metadata": {
    "id": "BVhF--7TiaUZ"
   },
   "source": [
    "# Importing Data from Excel Files"
   ]
  },
  {
   "cell_type": "code",
   "execution_count": 83,
   "metadata": {
    "id": "tUWalYqUh2zE"
   },
   "outputs": [],
   "source": [
    "train_df = pd.read_excel(\"C:/Users/gokul/Desktop/Internship summer`22/Projects_on_github/Wells-Fargo-Campus-Analytics-Challenge-main/Wells-Fargo-Campus-Analytics-Challenge-main/trainset.xlsx\")"
   ]
  },
  {
   "cell_type": "code",
   "execution_count": 84,
   "metadata": {
    "colab": {
     "base_uri": "https://localhost:8080/"
    },
    "id": "5BAlgqqu7JU8",
    "outputId": "94cb3403-d91e-4227-b512-4584042853ad"
   },
   "outputs": [
    {
     "data": {
      "text/plain": [
       "Non-Fraud    70.257143\n",
       "Fraud        29.742857\n",
       "Name: FRAUD_NONFRAUD, dtype: float64"
      ]
     },
     "execution_count": 84,
     "metadata": {},
     "output_type": "execute_result"
    }
   ],
   "source": [
    "train_df['FRAUD_NONFRAUD'].value_counts()/ len(train_df['FRAUD_NONFRAUD']) * 100.00"
   ]
  },
  {
   "cell_type": "code",
   "execution_count": 85,
   "metadata": {
    "id": "fdL8zn6jiChQ"
   },
   "outputs": [],
   "source": [
    "test_df = pd.read_excel(\"C:/Users/gokul/Desktop/Internship summer`22/Projects_on_github/Wells-Fargo-Campus-Analytics-Challenge-main/Wells-Fargo-Campus-Analytics-Challenge-main/testset_for_participants.xlsx\")"
   ]
  },
  {
   "cell_type": "code",
   "execution_count": 86,
   "metadata": {
    "colab": {
     "base_uri": "https://localhost:8080/"
    },
    "id": "z8fvaF2Ui76a",
    "outputId": "ec9328de-f626-41a7-cefa-203f3e3bd251"
   },
   "outputs": [
    {
     "data": {
      "text/plain": [
       "Index(['TRAN_AMT', 'ACCT_PRE_TRAN_AVAIL_BAL', 'CUST_AGE', 'OPEN_ACCT_CT',\n",
       "       'WF_dvc_age', 'PWD_UPDT_TS', 'CARR_NAME', 'RGN_NAME', 'STATE_PRVNC_TXT',\n",
       "       'ALERT_TRGR_CD', 'DVC_TYPE_TXT', 'AUTHC_PRIM_TYPE_CD',\n",
       "       'AUTHC_SCNDRY_STAT_TXT', 'CUST_ZIP', 'CUST_STATE', 'PH_NUM_UPDT_TS',\n",
       "       'CUST_SINCE_DT', 'TRAN_TS', 'TRAN_DT', 'ACTN_CD', 'ACTN_INTNL_TXT',\n",
       "       'TRAN_TYPE_CD', 'ACTVY_DT', 'FRAUD_NONFRAUD'],\n",
       "      dtype='object')"
      ]
     },
     "execution_count": 86,
     "metadata": {},
     "output_type": "execute_result"
    }
   ],
   "source": [
    "train_df.columns"
   ]
  },
  {
   "cell_type": "markdown",
   "metadata": {
    "id": "m5S4TCbBisC_"
   },
   "source": [
    "# Feature Engineering "
   ]
  },
  {
   "cell_type": "markdown",
   "metadata": {
    "id": "ugCDkFjOkye3"
   },
   "source": [
    "First thoughts for possibly valuable features: \n",
    "\n",
    "1) Does attribute STATE_PRVNC_TXT == CUST_STATE ?\n",
    "\n",
    "2) Days since phone number updated.\n",
    "\n",
    "3) What percent Account Transaction is for ?\n",
    "\n",
    "4) Transcation Area Percentage Fraud:\n",
    "\n",
    "5) Do being an older customer make them more susceptible to scams?\n",
    "\n",
    "6) Device age compared to account age."
   ]
  },
  {
   "cell_type": "code",
   "execution_count": 87,
   "metadata": {
    "id": "_xqhgePUzB88"
   },
   "outputs": [],
   "source": [
    "train_df = train_df.replace({\"FRAUD_NONFRAUD\": {\"Non-Fraud\": 0, \"Fraud\":1}}).copy()\n",
    "test_df = test_df.replace({\"FRAUD_NONFRAUD\": {\"Non-Fraud\": 0, \"Fraud\":1}}).copy()"
   ]
  },
  {
   "cell_type": "code",
   "execution_count": 88,
   "metadata": {
    "colab": {
     "base_uri": "https://localhost:8080/",
     "height": 668
    },
    "id": "AVbZ-9oniqr-",
    "outputId": "1882daec-93b5-429d-ea64-24656ed1896b"
   },
   "outputs": [
    {
     "data": {
      "text/html": [
       "<div>\n",
       "<style scoped>\n",
       "    .dataframe tbody tr th:only-of-type {\n",
       "        vertical-align: middle;\n",
       "    }\n",
       "\n",
       "    .dataframe tbody tr th {\n",
       "        vertical-align: top;\n",
       "    }\n",
       "\n",
       "    .dataframe thead th {\n",
       "        text-align: right;\n",
       "    }\n",
       "</style>\n",
       "<table border=\"1\" class=\"dataframe\">\n",
       "  <thead>\n",
       "    <tr style=\"text-align: right;\">\n",
       "      <th></th>\n",
       "      <th>TRAN_AMT</th>\n",
       "      <th>ACCT_PRE_TRAN_AVAIL_BAL</th>\n",
       "      <th>CUST_AGE</th>\n",
       "      <th>OPEN_ACCT_CT</th>\n",
       "      <th>WF_dvc_age</th>\n",
       "      <th>PWD_UPDT_TS</th>\n",
       "      <th>CARR_NAME</th>\n",
       "      <th>RGN_NAME</th>\n",
       "      <th>STATE_PRVNC_TXT</th>\n",
       "      <th>ALERT_TRGR_CD</th>\n",
       "      <th>...</th>\n",
       "      <th>CUST_STATE</th>\n",
       "      <th>PH_NUM_UPDT_TS</th>\n",
       "      <th>CUST_SINCE_DT</th>\n",
       "      <th>TRAN_TS</th>\n",
       "      <th>TRAN_DT</th>\n",
       "      <th>ACTN_CD</th>\n",
       "      <th>ACTN_INTNL_TXT</th>\n",
       "      <th>TRAN_TYPE_CD</th>\n",
       "      <th>ACTVY_DT</th>\n",
       "      <th>FRAUD_NONFRAUD</th>\n",
       "    </tr>\n",
       "  </thead>\n",
       "  <tbody>\n",
       "    <tr>\n",
       "      <th>0</th>\n",
       "      <td>5.38</td>\n",
       "      <td>23619.91</td>\n",
       "      <td>47</td>\n",
       "      <td>4</td>\n",
       "      <td>2777</td>\n",
       "      <td>1/16/2018 11:3:58</td>\n",
       "      <td>cox communications inc.</td>\n",
       "      <td>southwest</td>\n",
       "      <td>nevada</td>\n",
       "      <td>MOBL</td>\n",
       "      <td>...</td>\n",
       "      <td>NV</td>\n",
       "      <td>2/24/2021 15:55:10</td>\n",
       "      <td>1993-01-06</td>\n",
       "      <td>5/3/2021 18:3:58</td>\n",
       "      <td>5/3/2021</td>\n",
       "      <td>SCHPMT</td>\n",
       "      <td>P2P_COMMIT</td>\n",
       "      <td>P2P</td>\n",
       "      <td>5/3/2021</td>\n",
       "      <td>0</td>\n",
       "    </tr>\n",
       "    <tr>\n",
       "      <th>1</th>\n",
       "      <td>65.19</td>\n",
       "      <td>0.00</td>\n",
       "      <td>45</td>\n",
       "      <td>5</td>\n",
       "      <td>2721</td>\n",
       "      <td>NaN</td>\n",
       "      <td>charter communications</td>\n",
       "      <td>southwest</td>\n",
       "      <td>california</td>\n",
       "      <td>MOBL</td>\n",
       "      <td>...</td>\n",
       "      <td>CA</td>\n",
       "      <td>NaN</td>\n",
       "      <td>1971-01-07</td>\n",
       "      <td>1/13/2021 19:19:37</td>\n",
       "      <td>1/13/2021</td>\n",
       "      <td>SCHPMT</td>\n",
       "      <td>P2P_COMMIT</td>\n",
       "      <td>P2P</td>\n",
       "      <td>1/13/2021</td>\n",
       "      <td>0</td>\n",
       "    </tr>\n",
       "    <tr>\n",
       "      <th>2</th>\n",
       "      <td>54.84</td>\n",
       "      <td>34570.63</td>\n",
       "      <td>36</td>\n",
       "      <td>8</td>\n",
       "      <td>1531</td>\n",
       "      <td>12/22/2021 10:42:51</td>\n",
       "      <td>utah broadband llc</td>\n",
       "      <td>mountain</td>\n",
       "      <td>utah</td>\n",
       "      <td>ONLN</td>\n",
       "      <td>...</td>\n",
       "      <td>MD</td>\n",
       "      <td>5/5/2019 1:8:39</td>\n",
       "      <td>1994-02-01</td>\n",
       "      <td>4/8/2021 9:42:51</td>\n",
       "      <td>4/8/2021</td>\n",
       "      <td>SCHPMT</td>\n",
       "      <td>P2P_COMMIT</td>\n",
       "      <td>P2P</td>\n",
       "      <td>4/8/2021</td>\n",
       "      <td>1</td>\n",
       "    </tr>\n",
       "    <tr>\n",
       "      <th>3</th>\n",
       "      <td>0.01</td>\n",
       "      <td>0.00</td>\n",
       "      <td>62</td>\n",
       "      <td>3</td>\n",
       "      <td>835</td>\n",
       "      <td>2/8/2020 7:28:31</td>\n",
       "      <td>t-mobile usa  inc.</td>\n",
       "      <td>southwest</td>\n",
       "      <td>california</td>\n",
       "      <td>MOBL</td>\n",
       "      <td>...</td>\n",
       "      <td>NV</td>\n",
       "      <td>2/16/2019 6:45:37</td>\n",
       "      <td>2001-11-01</td>\n",
       "      <td>8/10/2021 15:28:31</td>\n",
       "      <td>8/10/2021</td>\n",
       "      <td>SCHPMT</td>\n",
       "      <td>P2P_COMMIT</td>\n",
       "      <td>P2P</td>\n",
       "      <td>8/10/2021</td>\n",
       "      <td>0</td>\n",
       "    </tr>\n",
       "    <tr>\n",
       "      <th>4</th>\n",
       "      <td>497.08</td>\n",
       "      <td>12725.18</td>\n",
       "      <td>81</td>\n",
       "      <td>2</td>\n",
       "      <td>1095</td>\n",
       "      <td>12/28/2020 12:12:44</td>\n",
       "      <td>cogent communications</td>\n",
       "      <td>south central</td>\n",
       "      <td>texas</td>\n",
       "      <td>MOBL</td>\n",
       "      <td>...</td>\n",
       "      <td>UT</td>\n",
       "      <td>5/8/2020 10:27:6</td>\n",
       "      <td>1987-02-07</td>\n",
       "      <td>6/27/2021 11:12:44</td>\n",
       "      <td>6/27/2021</td>\n",
       "      <td>SCHPMT</td>\n",
       "      <td>P2P_COMMIT</td>\n",
       "      <td>P2P</td>\n",
       "      <td>6/27/2021</td>\n",
       "      <td>1</td>\n",
       "    </tr>\n",
       "    <tr>\n",
       "      <th>...</th>\n",
       "      <td>...</td>\n",
       "      <td>...</td>\n",
       "      <td>...</td>\n",
       "      <td>...</td>\n",
       "      <td>...</td>\n",
       "      <td>...</td>\n",
       "      <td>...</td>\n",
       "      <td>...</td>\n",
       "      <td>...</td>\n",
       "      <td>...</td>\n",
       "      <td>...</td>\n",
       "      <td>...</td>\n",
       "      <td>...</td>\n",
       "      <td>...</td>\n",
       "      <td>...</td>\n",
       "      <td>...</td>\n",
       "      <td>...</td>\n",
       "      <td>...</td>\n",
       "      <td>...</td>\n",
       "      <td>...</td>\n",
       "      <td>...</td>\n",
       "    </tr>\n",
       "    <tr>\n",
       "      <th>13995</th>\n",
       "      <td>1937.21</td>\n",
       "      <td>230.75</td>\n",
       "      <td>55</td>\n",
       "      <td>4</td>\n",
       "      <td>142</td>\n",
       "      <td>NaN</td>\n",
       "      <td>cellco partnership dba verizon wireless</td>\n",
       "      <td>southwest</td>\n",
       "      <td>california</td>\n",
       "      <td>MOBL</td>\n",
       "      <td>...</td>\n",
       "      <td>CA</td>\n",
       "      <td>7/15/2017 6:58:59</td>\n",
       "      <td>2001-06-05</td>\n",
       "      <td>3/12/2021 12:11:59</td>\n",
       "      <td>3/12/2021</td>\n",
       "      <td>SCHPMT</td>\n",
       "      <td>P2P_COMMIT</td>\n",
       "      <td>P2P</td>\n",
       "      <td>3/12/2021</td>\n",
       "      <td>0</td>\n",
       "    </tr>\n",
       "    <tr>\n",
       "      <th>13996</th>\n",
       "      <td>114.38</td>\n",
       "      <td>0.00</td>\n",
       "      <td>44</td>\n",
       "      <td>10</td>\n",
       "      <td>272</td>\n",
       "      <td>11/2/2017 4:28:20</td>\n",
       "      <td>t-mobile usa  inc.</td>\n",
       "      <td>southwest</td>\n",
       "      <td>california</td>\n",
       "      <td>MOBL</td>\n",
       "      <td>...</td>\n",
       "      <td>CO</td>\n",
       "      <td>NaN</td>\n",
       "      <td>2010-06-03</td>\n",
       "      <td>6/11/2021 9:28:20</td>\n",
       "      <td>6/11/2021</td>\n",
       "      <td>SCHPMT</td>\n",
       "      <td>P2P_COMMIT</td>\n",
       "      <td>P2P</td>\n",
       "      <td>6/11/2021</td>\n",
       "      <td>0</td>\n",
       "    </tr>\n",
       "    <tr>\n",
       "      <th>13997</th>\n",
       "      <td>493.00</td>\n",
       "      <td>2848.63</td>\n",
       "      <td>54</td>\n",
       "      <td>3</td>\n",
       "      <td>517</td>\n",
       "      <td>6/3/2021 19:31:15</td>\n",
       "      <td>att services inc</td>\n",
       "      <td>southwest</td>\n",
       "      <td>california</td>\n",
       "      <td>MOBL</td>\n",
       "      <td>...</td>\n",
       "      <td>FL</td>\n",
       "      <td>5/25/2021 8:50:5</td>\n",
       "      <td>1984-10-27</td>\n",
       "      <td>5/16/2021 12:31:15</td>\n",
       "      <td>5/16/2021</td>\n",
       "      <td>SCHPMT</td>\n",
       "      <td>P2P_COMMIT</td>\n",
       "      <td>P2P</td>\n",
       "      <td>5/16/2021</td>\n",
       "      <td>1</td>\n",
       "    </tr>\n",
       "    <tr>\n",
       "      <th>13998</th>\n",
       "      <td>491.64</td>\n",
       "      <td>3163.25</td>\n",
       "      <td>21</td>\n",
       "      <td>3</td>\n",
       "      <td>0</td>\n",
       "      <td>3/2/2020 11:34:54</td>\n",
       "      <td>NaN</td>\n",
       "      <td>NaN</td>\n",
       "      <td>NaN</td>\n",
       "      <td>ONLN</td>\n",
       "      <td>...</td>\n",
       "      <td>CA</td>\n",
       "      <td>NaN</td>\n",
       "      <td>2021-03-01</td>\n",
       "      <td>5/11/2021 12:34:54</td>\n",
       "      <td>5/11/2021</td>\n",
       "      <td>SCHPMT</td>\n",
       "      <td>P2P_COMMIT</td>\n",
       "      <td>P2P</td>\n",
       "      <td>5/11/2021</td>\n",
       "      <td>1</td>\n",
       "    </tr>\n",
       "    <tr>\n",
       "      <th>13999</th>\n",
       "      <td>6.02</td>\n",
       "      <td>0.00</td>\n",
       "      <td>60</td>\n",
       "      <td>6</td>\n",
       "      <td>944</td>\n",
       "      <td>NaN</td>\n",
       "      <td>charter communications inc</td>\n",
       "      <td>south central</td>\n",
       "      <td>texas</td>\n",
       "      <td>MOBL</td>\n",
       "      <td>...</td>\n",
       "      <td>NJ</td>\n",
       "      <td>NaN</td>\n",
       "      <td>2013-01-09</td>\n",
       "      <td>2/15/2021 16:38:0</td>\n",
       "      <td>2/15/2021</td>\n",
       "      <td>SCHPMT</td>\n",
       "      <td>P2P_COMMIT</td>\n",
       "      <td>P2P</td>\n",
       "      <td>2/15/2021</td>\n",
       "      <td>0</td>\n",
       "    </tr>\n",
       "  </tbody>\n",
       "</table>\n",
       "<p>14000 rows × 24 columns</p>\n",
       "</div>"
      ],
      "text/plain": [
       "       TRAN_AMT  ACCT_PRE_TRAN_AVAIL_BAL  CUST_AGE  OPEN_ACCT_CT  WF_dvc_age  \\\n",
       "0          5.38                 23619.91        47             4        2777   \n",
       "1         65.19                     0.00        45             5        2721   \n",
       "2         54.84                 34570.63        36             8        1531   \n",
       "3          0.01                     0.00        62             3         835   \n",
       "4        497.08                 12725.18        81             2        1095   \n",
       "...         ...                      ...       ...           ...         ...   \n",
       "13995   1937.21                   230.75        55             4         142   \n",
       "13996    114.38                     0.00        44            10         272   \n",
       "13997    493.00                  2848.63        54             3         517   \n",
       "13998    491.64                  3163.25        21             3           0   \n",
       "13999      6.02                     0.00        60             6         944   \n",
       "\n",
       "               PWD_UPDT_TS                                CARR_NAME  \\\n",
       "0        1/16/2018 11:3:58                  cox communications inc.   \n",
       "1                      NaN                   charter communications   \n",
       "2      12/22/2021 10:42:51                       utah broadband llc   \n",
       "3         2/8/2020 7:28:31                       t-mobile usa  inc.   \n",
       "4      12/28/2020 12:12:44                    cogent communications   \n",
       "...                    ...                                      ...   \n",
       "13995                  NaN  cellco partnership dba verizon wireless   \n",
       "13996    11/2/2017 4:28:20                       t-mobile usa  inc.   \n",
       "13997    6/3/2021 19:31:15                         att services inc   \n",
       "13998    3/2/2020 11:34:54                                      NaN   \n",
       "13999                  NaN               charter communications inc   \n",
       "\n",
       "            RGN_NAME STATE_PRVNC_TXT ALERT_TRGR_CD  ... CUST_STATE  \\\n",
       "0          southwest          nevada          MOBL  ...         NV   \n",
       "1          southwest      california          MOBL  ...         CA   \n",
       "2           mountain            utah          ONLN  ...         MD   \n",
       "3          southwest      california          MOBL  ...         NV   \n",
       "4      south central           texas          MOBL  ...         UT   \n",
       "...              ...             ...           ...  ...        ...   \n",
       "13995      southwest      california          MOBL  ...         CA   \n",
       "13996      southwest      california          MOBL  ...         CO   \n",
       "13997      southwest      california          MOBL  ...         FL   \n",
       "13998            NaN             NaN          ONLN  ...         CA   \n",
       "13999  south central           texas          MOBL  ...         NJ   \n",
       "\n",
       "           PH_NUM_UPDT_TS CUST_SINCE_DT             TRAN_TS    TRAN_DT  \\\n",
       "0      2/24/2021 15:55:10    1993-01-06    5/3/2021 18:3:58   5/3/2021   \n",
       "1                     NaN    1971-01-07  1/13/2021 19:19:37  1/13/2021   \n",
       "2         5/5/2019 1:8:39    1994-02-01    4/8/2021 9:42:51   4/8/2021   \n",
       "3       2/16/2019 6:45:37    2001-11-01  8/10/2021 15:28:31  8/10/2021   \n",
       "4        5/8/2020 10:27:6    1987-02-07  6/27/2021 11:12:44  6/27/2021   \n",
       "...                   ...           ...                 ...        ...   \n",
       "13995   7/15/2017 6:58:59    2001-06-05  3/12/2021 12:11:59  3/12/2021   \n",
       "13996                 NaN    2010-06-03   6/11/2021 9:28:20  6/11/2021   \n",
       "13997    5/25/2021 8:50:5    1984-10-27  5/16/2021 12:31:15  5/16/2021   \n",
       "13998                 NaN    2021-03-01  5/11/2021 12:34:54  5/11/2021   \n",
       "13999                 NaN    2013-01-09   2/15/2021 16:38:0  2/15/2021   \n",
       "\n",
       "      ACTN_CD ACTN_INTNL_TXT TRAN_TYPE_CD   ACTVY_DT FRAUD_NONFRAUD  \n",
       "0      SCHPMT     P2P_COMMIT          P2P   5/3/2021              0  \n",
       "1      SCHPMT     P2P_COMMIT          P2P  1/13/2021              0  \n",
       "2      SCHPMT     P2P_COMMIT          P2P   4/8/2021              1  \n",
       "3      SCHPMT     P2P_COMMIT          P2P  8/10/2021              0  \n",
       "4      SCHPMT     P2P_COMMIT          P2P  6/27/2021              1  \n",
       "...       ...            ...          ...        ...            ...  \n",
       "13995  SCHPMT     P2P_COMMIT          P2P  3/12/2021              0  \n",
       "13996  SCHPMT     P2P_COMMIT          P2P  6/11/2021              0  \n",
       "13997  SCHPMT     P2P_COMMIT          P2P  5/16/2021              1  \n",
       "13998  SCHPMT     P2P_COMMIT          P2P  5/11/2021              1  \n",
       "13999  SCHPMT     P2P_COMMIT          P2P  2/15/2021              0  \n",
       "\n",
       "[14000 rows x 24 columns]"
      ]
     },
     "execution_count": 88,
     "metadata": {},
     "output_type": "execute_result"
    }
   ],
   "source": [
    "train_df"
   ]
  },
  {
   "cell_type": "markdown",
   "metadata": {
    "id": "XO4ZdDYhsID7"
   },
   "source": [
    "### Is In-State Transaction"
   ]
  },
  {
   "cell_type": "code",
   "execution_count": 89,
   "metadata": {
    "id": "9EAgQXr1nfx_"
   },
   "outputs": [],
   "source": [
    "us_state_to_abbrev = {\n",
    "    \"alabama\": \"AL\",\n",
    "    \"alaska\": \"AK\",\n",
    "    \"arizona\": \"AZ\",\n",
    "    \"arkansas\": \"AR\",\n",
    "    \"california\": \"CA\",\n",
    "    \"colorado\": \"CO\",\n",
    "    \"connecticut\": \"CT\",\n",
    "    \"delaware\": \"DE\",\n",
    "    \"florida\": \"FL\",\n",
    "    \"georgia\": \"GA\",\n",
    "    \"hawaii\": \"HI\",\n",
    "    \"idaho\": \"ID\",\n",
    "    \"illinois\": \"IL\",\n",
    "    \"indiana\": \"IN\",\n",
    "    \"iowa\": \"IA\",\n",
    "    \"kansas\": \"KS\",\n",
    "    \"kentucky\": \"KY\",\n",
    "    \"louisiana\": \"LA\",\n",
    "    \"maine\": \"ME\",\n",
    "    \"maryland\": \"MD\",\n",
    "    \"massachusetts\": \"MA\",\n",
    "    \"michigan\": \"MI\",\n",
    "    \"minnesota\": \"MN\",\n",
    "    \"mississippi\": \"MS\",\n",
    "    \"missouri\": \"MO\",\n",
    "    \"montana\": \"MT\",\n",
    "    \"nebraska\": \"NE\",\n",
    "    \"nevada\": \"NV\",\n",
    "    \"new Hampshire\": \"NH\",\n",
    "    \"new Jersey\": \"NJ\",\n",
    "    \"new Mexico\": \"NM\",\n",
    "    \"new York\": \"NY\",\n",
    "    \"north Carolina\": \"NC\",\n",
    "    \"north Dakota\": \"ND\",\n",
    "    \"ohio\": \"OH\",\n",
    "    \"oklahoma\": \"OK\",\n",
    "    \"oregon\": \"OR\",\n",
    "    \"pennsylvania\": \"PA\",\n",
    "    \"rhode Island\": \"RI\",\n",
    "    \"south Carolina\": \"SC\",\n",
    "    \"south Dakota\": \"SD\",\n",
    "    \"tennessee\": \"TN\",\n",
    "    \"texas\": \"TX\",\n",
    "    \"utah\": \"UT\",\n",
    "    \"vermont\": \"VT\",\n",
    "    \"virginia\": \"VA\",\n",
    "    \"washington\": \"WA\",\n",
    "    \"west Virginia\": \"WV\",\n",
    "    \"wisconsin\": \"WI\",\n",
    "    \"wyoming\": \"WY\",\n",
    "}"
   ]
  },
  {
   "cell_type": "markdown",
   "metadata": {},
   "source": [
    "### Convert state names to abbreviations"
   ]
  },
  {
   "cell_type": "code",
   "execution_count": 90,
   "metadata": {
    "id": "7DvrZJlroDu1"
   },
   "outputs": [],
   "source": [
    "train_df = train_df.replace({\"STATE_PRVNC_TXT\": us_state_to_abbrev}).copy()\n",
    "test_df = test_df.replace({\"STATE_PRVNC_TXT\": us_state_to_abbrev}).copy()"
   ]
  },
  {
   "cell_type": "code",
   "execution_count": 91,
   "metadata": {
    "colab": {
     "base_uri": "https://localhost:8080/"
    },
    "id": "wxC18AZgoL5w",
    "outputId": "bc743aa3-fb49-4b84-b292-2c9564820f49"
   },
   "outputs": [
    {
     "data": {
      "text/plain": [
       "array(['NV', 'CA', 'UT', 'TX', nan, 'AZ', 'WI', 'MN', 'phnum penh', 'AL',\n",
       "       'FL', 'NE', 'none', 'south dakota', 'punjab', 'north carolina',\n",
       "       'new york', 'MI', 'CO', 'MA', 'antioquia', 'WA', 'AR',\n",
       "       'new jersey', 'KY', 'ostergotlands lan', 'TN',\n",
       "       'district of columbia', 'GA', 'MD', 'OR', 'WY', 'OK', 'IL',\n",
       "       'north dakota', 'IN', 'PA', 'distrito nacional',\n",
       "       'distrito capital', 'IA', 'zuerich', 'hamerkaz', 'sonora',\n",
       "       'madrid', 'new mexico', 'new south wales', 'unknown',\n",
       "       'loire-atlantique', 'carabobo', 'MT', 'ID', 'hong kong', 'OH',\n",
       "       'south carolina', 'MO', 'colima', 'baja california',\n",
       "       'noord-brabant', 'nairobi area', 'baden-wuerttemberg', 'VA', 'AK',\n",
       "       'HI', 'KS', 'greater accra', 'kingston', 'CT', 'LA', 'bolivar',\n",
       "       'lagos', 'gujarat', 'zulia', 'morelos', 'jalisco', 'san salvador',\n",
       "       'west bengal', 'guerrero', 'distrito federal', 'MS',\n",
       "       \"saint george's\", 'hampshire', 'paris', 'mazowieckie',\n",
       "       'region metropolitana', 'ha noi', 'lara', 'ME',\n",
       "       'seoul teukbyeolsi', 'telangana', 'victoria', 'kinshasa',\n",
       "       'aguascalientes', 'western australia', 'andhra pradesh',\n",
       "       'sao paulo', 'nueva esparta', 'dubayy', 'chihuahua',\n",
       "       'rhode island', 'istanbul', 'guatemala', 'gauteng',\n",
       "       'michoacan de ocampo', \"ra's al khaymah\", 'sodermanlands lan',\n",
       "       'da nang', 'taipei', 'sindh', 'tamaulipas', 'sinaloa', 'liverpool',\n",
       "       'western cape', 'aragua', 'british columbia', 'guanacaste',\n",
       "       '`amman', 'hessen', 'ontario', 'DE', 'dublin', 'south west',\n",
       "       'west virginia', 'south australia', 'delhi', 'pichincha',\n",
       "       'new providence', 'tokyo', 'nordrhein-westfalen'], dtype=object)"
      ]
     },
     "execution_count": 91,
     "metadata": {},
     "output_type": "execute_result"
    }
   ],
   "source": [
    "train_df[\"STATE_PRVNC_TXT\"].unique()"
   ]
  },
  {
   "cell_type": "code",
   "execution_count": 92,
   "metadata": {
    "colab": {
     "base_uri": "https://localhost:8080/",
     "height": 423
    },
    "id": "etMVmgBFprIk",
    "outputId": "47298148-5a86-4edd-b77e-7cbeea4f7fac"
   },
   "outputs": [
    {
     "data": {
      "text/html": [
       "<div>\n",
       "<style scoped>\n",
       "    .dataframe tbody tr th:only-of-type {\n",
       "        vertical-align: middle;\n",
       "    }\n",
       "\n",
       "    .dataframe tbody tr th {\n",
       "        vertical-align: top;\n",
       "    }\n",
       "\n",
       "    .dataframe thead th {\n",
       "        text-align: right;\n",
       "    }\n",
       "</style>\n",
       "<table border=\"1\" class=\"dataframe\">\n",
       "  <thead>\n",
       "    <tr style=\"text-align: right;\">\n",
       "      <th></th>\n",
       "      <th>In_State_Transaction</th>\n",
       "      <th>STATE_PRVNC_TXT</th>\n",
       "      <th>CUST_STATE</th>\n",
       "    </tr>\n",
       "  </thead>\n",
       "  <tbody>\n",
       "    <tr>\n",
       "      <th>0</th>\n",
       "      <td>0</td>\n",
       "      <td>NV</td>\n",
       "      <td>NV</td>\n",
       "    </tr>\n",
       "    <tr>\n",
       "      <th>1</th>\n",
       "      <td>0</td>\n",
       "      <td>CA</td>\n",
       "      <td>CA</td>\n",
       "    </tr>\n",
       "    <tr>\n",
       "      <th>2</th>\n",
       "      <td>1</td>\n",
       "      <td>UT</td>\n",
       "      <td>MD</td>\n",
       "    </tr>\n",
       "    <tr>\n",
       "      <th>3</th>\n",
       "      <td>1</td>\n",
       "      <td>CA</td>\n",
       "      <td>NV</td>\n",
       "    </tr>\n",
       "    <tr>\n",
       "      <th>4</th>\n",
       "      <td>1</td>\n",
       "      <td>TX</td>\n",
       "      <td>UT</td>\n",
       "    </tr>\n",
       "    <tr>\n",
       "      <th>...</th>\n",
       "      <td>...</td>\n",
       "      <td>...</td>\n",
       "      <td>...</td>\n",
       "    </tr>\n",
       "    <tr>\n",
       "      <th>13995</th>\n",
       "      <td>0</td>\n",
       "      <td>CA</td>\n",
       "      <td>CA</td>\n",
       "    </tr>\n",
       "    <tr>\n",
       "      <th>13996</th>\n",
       "      <td>1</td>\n",
       "      <td>CA</td>\n",
       "      <td>CO</td>\n",
       "    </tr>\n",
       "    <tr>\n",
       "      <th>13997</th>\n",
       "      <td>1</td>\n",
       "      <td>CA</td>\n",
       "      <td>FL</td>\n",
       "    </tr>\n",
       "    <tr>\n",
       "      <th>13998</th>\n",
       "      <td>1</td>\n",
       "      <td>NaN</td>\n",
       "      <td>CA</td>\n",
       "    </tr>\n",
       "    <tr>\n",
       "      <th>13999</th>\n",
       "      <td>1</td>\n",
       "      <td>TX</td>\n",
       "      <td>NJ</td>\n",
       "    </tr>\n",
       "  </tbody>\n",
       "</table>\n",
       "<p>14000 rows × 3 columns</p>\n",
       "</div>"
      ],
      "text/plain": [
       "       In_State_Transaction STATE_PRVNC_TXT CUST_STATE\n",
       "0                         0              NV         NV\n",
       "1                         0              CA         CA\n",
       "2                         1              UT         MD\n",
       "3                         1              CA         NV\n",
       "4                         1              TX         UT\n",
       "...                     ...             ...        ...\n",
       "13995                     0              CA         CA\n",
       "13996                     1              CA         CO\n",
       "13997                     1              CA         FL\n",
       "13998                     1             NaN         CA\n",
       "13999                     1              TX         NJ\n",
       "\n",
       "[14000 rows x 3 columns]"
      ]
     },
     "execution_count": 92,
     "metadata": {},
     "output_type": "execute_result"
    }
   ],
   "source": [
    "#define conditions\n",
    "conditions = [train_df['STATE_PRVNC_TXT'] == train_df['CUST_STATE'], \n",
    "              train_df['STATE_PRVNC_TXT'] != train_df['CUST_STATE']]\n",
    "conditionsTest = [test_df['STATE_PRVNC_TXT'] == test_df['CUST_STATE'], \n",
    "              test_df['STATE_PRVNC_TXT'] != test_df['CUST_STATE']]\n",
    "\n",
    "#define choices\n",
    "choices = [0, 1]\n",
    "\n",
    "#create new column in DataFrame that displays results of comparisons\n",
    "train_df[\"In_State_Transaction\"] = np.select(conditions, choices, default=0)\n",
    "test_df[\"In_State_Transaction\"] = np.select(conditionsTest, choices, default=0)\n",
    "\n",
    "#view the DataFrame\n",
    "train_df[[\"In_State_Transaction\",\"STATE_PRVNC_TXT\", \"CUST_STATE\"]]"
   ]
  },
  {
   "cell_type": "code",
   "execution_count": 93,
   "metadata": {
    "colab": {
     "base_uri": "https://localhost:8080/",
     "height": 423
    },
    "id": "QtUDwtIxxfoB",
    "outputId": "ecfb3fc3-b537-4263-9730-79c61fe9e9b7"
   },
   "outputs": [
    {
     "data": {
      "text/html": [
       "<div>\n",
       "<style scoped>\n",
       "    .dataframe tbody tr th:only-of-type {\n",
       "        vertical-align: middle;\n",
       "    }\n",
       "\n",
       "    .dataframe tbody tr th {\n",
       "        vertical-align: top;\n",
       "    }\n",
       "\n",
       "    .dataframe thead th {\n",
       "        text-align: right;\n",
       "    }\n",
       "</style>\n",
       "<table border=\"1\" class=\"dataframe\">\n",
       "  <thead>\n",
       "    <tr style=\"text-align: right;\">\n",
       "      <th></th>\n",
       "      <th>In_State_Transaction</th>\n",
       "      <th>FRAUD_NONFRAUD</th>\n",
       "    </tr>\n",
       "  </thead>\n",
       "  <tbody>\n",
       "    <tr>\n",
       "      <th>0</th>\n",
       "      <td>0</td>\n",
       "      <td>0</td>\n",
       "    </tr>\n",
       "    <tr>\n",
       "      <th>1</th>\n",
       "      <td>0</td>\n",
       "      <td>0</td>\n",
       "    </tr>\n",
       "    <tr>\n",
       "      <th>2</th>\n",
       "      <td>1</td>\n",
       "      <td>1</td>\n",
       "    </tr>\n",
       "    <tr>\n",
       "      <th>3</th>\n",
       "      <td>1</td>\n",
       "      <td>0</td>\n",
       "    </tr>\n",
       "    <tr>\n",
       "      <th>4</th>\n",
       "      <td>1</td>\n",
       "      <td>1</td>\n",
       "    </tr>\n",
       "    <tr>\n",
       "      <th>...</th>\n",
       "      <td>...</td>\n",
       "      <td>...</td>\n",
       "    </tr>\n",
       "    <tr>\n",
       "      <th>13995</th>\n",
       "      <td>0</td>\n",
       "      <td>0</td>\n",
       "    </tr>\n",
       "    <tr>\n",
       "      <th>13996</th>\n",
       "      <td>1</td>\n",
       "      <td>0</td>\n",
       "    </tr>\n",
       "    <tr>\n",
       "      <th>13997</th>\n",
       "      <td>1</td>\n",
       "      <td>1</td>\n",
       "    </tr>\n",
       "    <tr>\n",
       "      <th>13998</th>\n",
       "      <td>1</td>\n",
       "      <td>1</td>\n",
       "    </tr>\n",
       "    <tr>\n",
       "      <th>13999</th>\n",
       "      <td>1</td>\n",
       "      <td>0</td>\n",
       "    </tr>\n",
       "  </tbody>\n",
       "</table>\n",
       "<p>14000 rows × 2 columns</p>\n",
       "</div>"
      ],
      "text/plain": [
       "       In_State_Transaction  FRAUD_NONFRAUD\n",
       "0                         0               0\n",
       "1                         0               0\n",
       "2                         1               1\n",
       "3                         1               0\n",
       "4                         1               1\n",
       "...                     ...             ...\n",
       "13995                     0               0\n",
       "13996                     1               0\n",
       "13997                     1               1\n",
       "13998                     1               1\n",
       "13999                     1               0\n",
       "\n",
       "[14000 rows x 2 columns]"
      ]
     },
     "execution_count": 93,
     "metadata": {},
     "output_type": "execute_result"
    }
   ],
   "source": [
    "train_df[[\"In_State_Transaction\",\"FRAUD_NONFRAUD\"]]"
   ]
  },
  {
   "cell_type": "code",
   "execution_count": 94,
   "metadata": {
    "colab": {
     "base_uri": "https://localhost:8080/",
     "height": 280
    },
    "id": "KfZwZAzAxL_q",
    "outputId": "ec513dfb-cb42-4086-d87f-6d0acc734e5e"
   },
   "outputs": [
    {
     "data": {
      "image/png": "[encoded data removed]",
      "text/plain": [
       "<Figure size 640x480 with 2 Axes>"
      ]
     },
     "metadata": {},
     "output_type": "display_data"
    }
   ],
   "source": [
    "cf_matrix = pd.crosstab(train_df['In_State_Transaction'], train_df['FRAUD_NONFRAUD'], rownames=['In_State_Transcation'], colnames=['FRAUD_NONFRAUD'])\n",
    "\n",
    "sns.heatmap(cf_matrix/np.sum(cf_matrix), annot=True, \n",
    "            fmt='.2%', cmap='Blues')\n",
    "plt.show()"
   ]
  },
  {
   "cell_type": "markdown",
   "metadata": {
    "id": "XFUXGFoz0G4s"
   },
   "source": [
    "We can see from above that the large majority of fraudulent transactions happen out side of the customers state"
   ]
  },
  {
   "cell_type": "markdown",
   "metadata": {
    "id": "OIqgSHkrt9wN"
   },
   "source": [
    "### Days Between Transaction and Last Account Update\n"
   ]
  },
  {
   "cell_type": "code",
   "execution_count": 95,
   "metadata": {
    "colab": {
     "base_uri": "https://localhost:8080/",
     "height": 0
    },
    "id": "48lM_lPSt9Ke",
    "outputId": "361a32a6-68f4-4686-a8cc-72f9787ccbc0"
   },
   "outputs": [
    {
     "data": {
      "text/html": [
       "<div>\n",
       "<style scoped>\n",
       "    .dataframe tbody tr th:only-of-type {\n",
       "        vertical-align: middle;\n",
       "    }\n",
       "\n",
       "    .dataframe tbody tr th {\n",
       "        vertical-align: top;\n",
       "    }\n",
       "\n",
       "    .dataframe thead th {\n",
       "        text-align: right;\n",
       "    }\n",
       "</style>\n",
       "<table border=\"1\" class=\"dataframe\">\n",
       "  <thead>\n",
       "    <tr style=\"text-align: right;\">\n",
       "      <th></th>\n",
       "      <th>TRAN_AMT</th>\n",
       "      <th>ACCT_PRE_TRAN_AVAIL_BAL</th>\n",
       "      <th>CUST_AGE</th>\n",
       "      <th>OPEN_ACCT_CT</th>\n",
       "      <th>WF_dvc_age</th>\n",
       "      <th>PWD_UPDT_TS</th>\n",
       "      <th>CARR_NAME</th>\n",
       "      <th>RGN_NAME</th>\n",
       "      <th>STATE_PRVNC_TXT</th>\n",
       "      <th>ALERT_TRGR_CD</th>\n",
       "      <th>...</th>\n",
       "      <th>PH_NUM_UPDT_TS</th>\n",
       "      <th>CUST_SINCE_DT</th>\n",
       "      <th>TRAN_TS</th>\n",
       "      <th>TRAN_DT</th>\n",
       "      <th>ACTN_CD</th>\n",
       "      <th>ACTN_INTNL_TXT</th>\n",
       "      <th>TRAN_TYPE_CD</th>\n",
       "      <th>ACTVY_DT</th>\n",
       "      <th>FRAUD_NONFRAUD</th>\n",
       "      <th>In_State_Transaction</th>\n",
       "    </tr>\n",
       "  </thead>\n",
       "  <tbody>\n",
       "    <tr>\n",
       "      <th>0</th>\n",
       "      <td>5.38</td>\n",
       "      <td>23619.91</td>\n",
       "      <td>47</td>\n",
       "      <td>4</td>\n",
       "      <td>2777</td>\n",
       "      <td>1/16/2018 11:3:58</td>\n",
       "      <td>cox communications inc.</td>\n",
       "      <td>southwest</td>\n",
       "      <td>NV</td>\n",
       "      <td>MOBL</td>\n",
       "      <td>...</td>\n",
       "      <td>2/24/2021 15:55:10</td>\n",
       "      <td>1993-01-06</td>\n",
       "      <td>5/3/2021 18:3:58</td>\n",
       "      <td>5/3/2021</td>\n",
       "      <td>SCHPMT</td>\n",
       "      <td>P2P_COMMIT</td>\n",
       "      <td>P2P</td>\n",
       "      <td>5/3/2021</td>\n",
       "      <td>0</td>\n",
       "      <td>0</td>\n",
       "    </tr>\n",
       "    <tr>\n",
       "      <th>1</th>\n",
       "      <td>65.19</td>\n",
       "      <td>0.00</td>\n",
       "      <td>45</td>\n",
       "      <td>5</td>\n",
       "      <td>2721</td>\n",
       "      <td>NaN</td>\n",
       "      <td>charter communications</td>\n",
       "      <td>southwest</td>\n",
       "      <td>CA</td>\n",
       "      <td>MOBL</td>\n",
       "      <td>...</td>\n",
       "      <td>NaN</td>\n",
       "      <td>1971-01-07</td>\n",
       "      <td>1/13/2021 19:19:37</td>\n",
       "      <td>1/13/2021</td>\n",
       "      <td>SCHPMT</td>\n",
       "      <td>P2P_COMMIT</td>\n",
       "      <td>P2P</td>\n",
       "      <td>1/13/2021</td>\n",
       "      <td>0</td>\n",
       "      <td>0</td>\n",
       "    </tr>\n",
       "  </tbody>\n",
       "</table>\n",
       "<p>2 rows × 25 columns</p>\n",
       "</div>"
      ],
      "text/plain": [
       "   TRAN_AMT  ACCT_PRE_TRAN_AVAIL_BAL  CUST_AGE  OPEN_ACCT_CT  WF_dvc_age  \\\n",
       "0      5.38                 23619.91        47             4        2777   \n",
       "1     65.19                     0.00        45             5        2721   \n",
       "\n",
       "         PWD_UPDT_TS                CARR_NAME   RGN_NAME STATE_PRVNC_TXT  \\\n",
       "0  1/16/2018 11:3:58  cox communications inc.  southwest              NV   \n",
       "1                NaN   charter communications  southwest              CA   \n",
       "\n",
       "  ALERT_TRGR_CD  ...      PH_NUM_UPDT_TS CUST_SINCE_DT             TRAN_TS  \\\n",
       "0          MOBL  ...  2/24/2021 15:55:10    1993-01-06    5/3/2021 18:3:58   \n",
       "1          MOBL  ...                 NaN    1971-01-07  1/13/2021 19:19:37   \n",
       "\n",
       "     TRAN_DT ACTN_CD ACTN_INTNL_TXT TRAN_TYPE_CD   ACTVY_DT FRAUD_NONFRAUD  \\\n",
       "0   5/3/2021  SCHPMT     P2P_COMMIT          P2P   5/3/2021              0   \n",
       "1  1/13/2021  SCHPMT     P2P_COMMIT          P2P  1/13/2021              0   \n",
       "\n",
       "  In_State_Transaction  \n",
       "0                    0  \n",
       "1                    0  \n",
       "\n",
       "[2 rows x 25 columns]"
      ]
     },
     "execution_count": 95,
     "metadata": {},
     "output_type": "execute_result"
    }
   ],
   "source": [
    "train_df.head(2)"
   ]
  },
  {
   "cell_type": "code",
   "execution_count": 96,
   "metadata": {
    "id": "UHOv0OjHtg5c"
   },
   "outputs": [],
   "source": [
    "train_df['PH_NUM_UPDT_TS']= pd.to_datetime(train_df['PH_NUM_UPDT_TS'],errors='coerce')\n",
    "train_df['PWD_UPDT_TS']= pd.to_datetime(train_df['PWD_UPDT_TS'],errors='coerce')\n",
    "train_df['TRAN_TS']= pd.to_datetime(train_df['TRAN_TS'],errors='coerce')\n",
    "\n",
    "test_df['PH_NUM_UPDT_TS']= pd.to_datetime(test_df['PH_NUM_UPDT_TS'],errors='coerce')\n",
    "test_df['PWD_UPDT_TS']= pd.to_datetime(test_df['PWD_UPDT_TS'],errors='coerce')\n",
    "test_df['TRAN_TS']= pd.to_datetime(test_df['TRAN_TS'],errors='coerce')"
   ]
  },
  {
   "cell_type": "code",
   "execution_count": 97,
   "metadata": {
    "id": "fGw_Lsk3urS8"
   },
   "outputs": [],
   "source": [
    "train_df['DAYS_SINCE_PWD_UPDT'] = (train_df['TRAN_TS'] - train_df['PWD_UPDT_TS']).dt.days\n",
    "train_df['DAYS_SINCE_PH_NUM_UPDT'] = (train_df['TRAN_TS'] - train_df['PH_NUM_UPDT_TS']).dt.days\n",
    "\n",
    "test_df['DAYS_SINCE_PWD_UPDT'] = (test_df['TRAN_TS'] - test_df['PWD_UPDT_TS']).dt.days\n",
    "test_df['DAYS_SINCE_PH_NUM_UPDT'] = (test_df['TRAN_TS'] - test_df['PH_NUM_UPDT_TS']).dt.days"
   ]
  },
  {
   "cell_type": "code",
   "execution_count": 98,
   "metadata": {
    "colab": {
     "base_uri": "https://localhost:8080/",
     "height": 0
    },
    "id": "q7zQnWphvI5m",
    "outputId": "c891e770-14e8-44fc-e140-7f7f616ac76c"
   },
   "outputs": [
    {
     "data": {
      "text/html": [
       "<div>\n",
       "<style scoped>\n",
       "    .dataframe tbody tr th:only-of-type {\n",
       "        vertical-align: middle;\n",
       "    }\n",
       "\n",
       "    .dataframe tbody tr th {\n",
       "        vertical-align: top;\n",
       "    }\n",
       "\n",
       "    .dataframe thead th {\n",
       "        text-align: right;\n",
       "    }\n",
       "</style>\n",
       "<table border=\"1\" class=\"dataframe\">\n",
       "  <thead>\n",
       "    <tr style=\"text-align: right;\">\n",
       "      <th></th>\n",
       "      <th>TRAN_AMT</th>\n",
       "      <th>ACCT_PRE_TRAN_AVAIL_BAL</th>\n",
       "      <th>CUST_AGE</th>\n",
       "      <th>OPEN_ACCT_CT</th>\n",
       "      <th>WF_dvc_age</th>\n",
       "      <th>PWD_UPDT_TS</th>\n",
       "      <th>CARR_NAME</th>\n",
       "      <th>RGN_NAME</th>\n",
       "      <th>STATE_PRVNC_TXT</th>\n",
       "      <th>ALERT_TRGR_CD</th>\n",
       "      <th>...</th>\n",
       "      <th>TRAN_TS</th>\n",
       "      <th>TRAN_DT</th>\n",
       "      <th>ACTN_CD</th>\n",
       "      <th>ACTN_INTNL_TXT</th>\n",
       "      <th>TRAN_TYPE_CD</th>\n",
       "      <th>ACTVY_DT</th>\n",
       "      <th>FRAUD_NONFRAUD</th>\n",
       "      <th>In_State_Transaction</th>\n",
       "      <th>DAYS_SINCE_PWD_UPDT</th>\n",
       "      <th>DAYS_SINCE_PH_NUM_UPDT</th>\n",
       "    </tr>\n",
       "  </thead>\n",
       "  <tbody>\n",
       "    <tr>\n",
       "      <th>0</th>\n",
       "      <td>5.38</td>\n",
       "      <td>23619.91</td>\n",
       "      <td>47</td>\n",
       "      <td>4</td>\n",
       "      <td>2777</td>\n",
       "      <td>2018-01-16 11:03:58</td>\n",
       "      <td>cox communications inc.</td>\n",
       "      <td>southwest</td>\n",
       "      <td>NV</td>\n",
       "      <td>MOBL</td>\n",
       "      <td>...</td>\n",
       "      <td>2021-05-03 18:03:58</td>\n",
       "      <td>5/3/2021</td>\n",
       "      <td>SCHPMT</td>\n",
       "      <td>P2P_COMMIT</td>\n",
       "      <td>P2P</td>\n",
       "      <td>5/3/2021</td>\n",
       "      <td>0</td>\n",
       "      <td>0</td>\n",
       "      <td>1203.0</td>\n",
       "      <td>68.0</td>\n",
       "    </tr>\n",
       "    <tr>\n",
       "      <th>1</th>\n",
       "      <td>65.19</td>\n",
       "      <td>0.00</td>\n",
       "      <td>45</td>\n",
       "      <td>5</td>\n",
       "      <td>2721</td>\n",
       "      <td>NaT</td>\n",
       "      <td>charter communications</td>\n",
       "      <td>southwest</td>\n",
       "      <td>CA</td>\n",
       "      <td>MOBL</td>\n",
       "      <td>...</td>\n",
       "      <td>2021-01-13 19:19:37</td>\n",
       "      <td>1/13/2021</td>\n",
       "      <td>SCHPMT</td>\n",
       "      <td>P2P_COMMIT</td>\n",
       "      <td>P2P</td>\n",
       "      <td>1/13/2021</td>\n",
       "      <td>0</td>\n",
       "      <td>0</td>\n",
       "      <td>NaN</td>\n",
       "      <td>NaN</td>\n",
       "    </tr>\n",
       "    <tr>\n",
       "      <th>2</th>\n",
       "      <td>54.84</td>\n",
       "      <td>34570.63</td>\n",
       "      <td>36</td>\n",
       "      <td>8</td>\n",
       "      <td>1531</td>\n",
       "      <td>2021-12-22 10:42:51</td>\n",
       "      <td>utah broadband llc</td>\n",
       "      <td>mountain</td>\n",
       "      <td>UT</td>\n",
       "      <td>ONLN</td>\n",
       "      <td>...</td>\n",
       "      <td>2021-04-08 09:42:51</td>\n",
       "      <td>4/8/2021</td>\n",
       "      <td>SCHPMT</td>\n",
       "      <td>P2P_COMMIT</td>\n",
       "      <td>P2P</td>\n",
       "      <td>4/8/2021</td>\n",
       "      <td>1</td>\n",
       "      <td>1</td>\n",
       "      <td>-259.0</td>\n",
       "      <td>704.0</td>\n",
       "    </tr>\n",
       "    <tr>\n",
       "      <th>3</th>\n",
       "      <td>0.01</td>\n",
       "      <td>0.00</td>\n",
       "      <td>62</td>\n",
       "      <td>3</td>\n",
       "      <td>835</td>\n",
       "      <td>2020-02-08 07:28:31</td>\n",
       "      <td>t-mobile usa  inc.</td>\n",
       "      <td>southwest</td>\n",
       "      <td>CA</td>\n",
       "      <td>MOBL</td>\n",
       "      <td>...</td>\n",
       "      <td>2021-08-10 15:28:31</td>\n",
       "      <td>8/10/2021</td>\n",
       "      <td>SCHPMT</td>\n",
       "      <td>P2P_COMMIT</td>\n",
       "      <td>P2P</td>\n",
       "      <td>8/10/2021</td>\n",
       "      <td>0</td>\n",
       "      <td>1</td>\n",
       "      <td>549.0</td>\n",
       "      <td>906.0</td>\n",
       "    </tr>\n",
       "    <tr>\n",
       "      <th>4</th>\n",
       "      <td>497.08</td>\n",
       "      <td>12725.18</td>\n",
       "      <td>81</td>\n",
       "      <td>2</td>\n",
       "      <td>1095</td>\n",
       "      <td>2020-12-28 12:12:44</td>\n",
       "      <td>cogent communications</td>\n",
       "      <td>south central</td>\n",
       "      <td>TX</td>\n",
       "      <td>MOBL</td>\n",
       "      <td>...</td>\n",
       "      <td>2021-06-27 11:12:44</td>\n",
       "      <td>6/27/2021</td>\n",
       "      <td>SCHPMT</td>\n",
       "      <td>P2P_COMMIT</td>\n",
       "      <td>P2P</td>\n",
       "      <td>6/27/2021</td>\n",
       "      <td>1</td>\n",
       "      <td>1</td>\n",
       "      <td>180.0</td>\n",
       "      <td>415.0</td>\n",
       "    </tr>\n",
       "    <tr>\n",
       "      <th>...</th>\n",
       "      <td>...</td>\n",
       "      <td>...</td>\n",
       "      <td>...</td>\n",
       "      <td>...</td>\n",
       "      <td>...</td>\n",
       "      <td>...</td>\n",
       "      <td>...</td>\n",
       "      <td>...</td>\n",
       "      <td>...</td>\n",
       "      <td>...</td>\n",
       "      <td>...</td>\n",
       "      <td>...</td>\n",
       "      <td>...</td>\n",
       "      <td>...</td>\n",
       "      <td>...</td>\n",
       "      <td>...</td>\n",
       "      <td>...</td>\n",
       "      <td>...</td>\n",
       "      <td>...</td>\n",
       "      <td>...</td>\n",
       "      <td>...</td>\n",
       "    </tr>\n",
       "    <tr>\n",
       "      <th>13995</th>\n",
       "      <td>1937.21</td>\n",
       "      <td>230.75</td>\n",
       "      <td>55</td>\n",
       "      <td>4</td>\n",
       "      <td>142</td>\n",
       "      <td>NaT</td>\n",
       "      <td>cellco partnership dba verizon wireless</td>\n",
       "      <td>southwest</td>\n",
       "      <td>CA</td>\n",
       "      <td>MOBL</td>\n",
       "      <td>...</td>\n",
       "      <td>2021-03-12 12:11:59</td>\n",
       "      <td>3/12/2021</td>\n",
       "      <td>SCHPMT</td>\n",
       "      <td>P2P_COMMIT</td>\n",
       "      <td>P2P</td>\n",
       "      <td>3/12/2021</td>\n",
       "      <td>0</td>\n",
       "      <td>0</td>\n",
       "      <td>NaN</td>\n",
       "      <td>1336.0</td>\n",
       "    </tr>\n",
       "    <tr>\n",
       "      <th>13996</th>\n",
       "      <td>114.38</td>\n",
       "      <td>0.00</td>\n",
       "      <td>44</td>\n",
       "      <td>10</td>\n",
       "      <td>272</td>\n",
       "      <td>2017-11-02 04:28:20</td>\n",
       "      <td>t-mobile usa  inc.</td>\n",
       "      <td>southwest</td>\n",
       "      <td>CA</td>\n",
       "      <td>MOBL</td>\n",
       "      <td>...</td>\n",
       "      <td>2021-06-11 09:28:20</td>\n",
       "      <td>6/11/2021</td>\n",
       "      <td>SCHPMT</td>\n",
       "      <td>P2P_COMMIT</td>\n",
       "      <td>P2P</td>\n",
       "      <td>6/11/2021</td>\n",
       "      <td>0</td>\n",
       "      <td>1</td>\n",
       "      <td>1317.0</td>\n",
       "      <td>NaN</td>\n",
       "    </tr>\n",
       "    <tr>\n",
       "      <th>13997</th>\n",
       "      <td>493.00</td>\n",
       "      <td>2848.63</td>\n",
       "      <td>54</td>\n",
       "      <td>3</td>\n",
       "      <td>517</td>\n",
       "      <td>2021-06-03 19:31:15</td>\n",
       "      <td>att services inc</td>\n",
       "      <td>southwest</td>\n",
       "      <td>CA</td>\n",
       "      <td>MOBL</td>\n",
       "      <td>...</td>\n",
       "      <td>2021-05-16 12:31:15</td>\n",
       "      <td>5/16/2021</td>\n",
       "      <td>SCHPMT</td>\n",
       "      <td>P2P_COMMIT</td>\n",
       "      <td>P2P</td>\n",
       "      <td>5/16/2021</td>\n",
       "      <td>1</td>\n",
       "      <td>1</td>\n",
       "      <td>-19.0</td>\n",
       "      <td>-9.0</td>\n",
       "    </tr>\n",
       "    <tr>\n",
       "      <th>13998</th>\n",
       "      <td>491.64</td>\n",
       "      <td>3163.25</td>\n",
       "      <td>21</td>\n",
       "      <td>3</td>\n",
       "      <td>0</td>\n",
       "      <td>2020-03-02 11:34:54</td>\n",
       "      <td>NaN</td>\n",
       "      <td>NaN</td>\n",
       "      <td>NaN</td>\n",
       "      <td>ONLN</td>\n",
       "      <td>...</td>\n",
       "      <td>2021-05-11 12:34:54</td>\n",
       "      <td>5/11/2021</td>\n",
       "      <td>SCHPMT</td>\n",
       "      <td>P2P_COMMIT</td>\n",
       "      <td>P2P</td>\n",
       "      <td>5/11/2021</td>\n",
       "      <td>1</td>\n",
       "      <td>1</td>\n",
       "      <td>435.0</td>\n",
       "      <td>NaN</td>\n",
       "    </tr>\n",
       "    <tr>\n",
       "      <th>13999</th>\n",
       "      <td>6.02</td>\n",
       "      <td>0.00</td>\n",
       "      <td>60</td>\n",
       "      <td>6</td>\n",
       "      <td>944</td>\n",
       "      <td>NaT</td>\n",
       "      <td>charter communications inc</td>\n",
       "      <td>south central</td>\n",
       "      <td>TX</td>\n",
       "      <td>MOBL</td>\n",
       "      <td>...</td>\n",
       "      <td>2021-02-15 16:38:00</td>\n",
       "      <td>2/15/2021</td>\n",
       "      <td>SCHPMT</td>\n",
       "      <td>P2P_COMMIT</td>\n",
       "      <td>P2P</td>\n",
       "      <td>2/15/2021</td>\n",
       "      <td>0</td>\n",
       "      <td>1</td>\n",
       "      <td>NaN</td>\n",
       "      <td>NaN</td>\n",
       "    </tr>\n",
       "  </tbody>\n",
       "</table>\n",
       "<p>14000 rows × 27 columns</p>\n",
       "</div>"
      ],
      "text/plain": [
       "       TRAN_AMT  ACCT_PRE_TRAN_AVAIL_BAL  CUST_AGE  OPEN_ACCT_CT  WF_dvc_age  \\\n",
       "0          5.38                 23619.91        47             4        2777   \n",
       "1         65.19                     0.00        45             5        2721   \n",
       "2         54.84                 34570.63        36             8        1531   \n",
       "3          0.01                     0.00        62             3         835   \n",
       "4        497.08                 12725.18        81             2        1095   \n",
       "...         ...                      ...       ...           ...         ...   \n",
       "13995   1937.21                   230.75        55             4         142   \n",
       "13996    114.38                     0.00        44            10         272   \n",
       "13997    493.00                  2848.63        54             3         517   \n",
       "13998    491.64                  3163.25        21             3           0   \n",
       "13999      6.02                     0.00        60             6         944   \n",
       "\n",
       "              PWD_UPDT_TS                                CARR_NAME  \\\n",
       "0     2018-01-16 11:03:58                  cox communications inc.   \n",
       "1                     NaT                   charter communications   \n",
       "2     2021-12-22 10:42:51                       utah broadband llc   \n",
       "3     2020-02-08 07:28:31                       t-mobile usa  inc.   \n",
       "4     2020-12-28 12:12:44                    cogent communications   \n",
       "...                   ...                                      ...   \n",
       "13995                 NaT  cellco partnership dba verizon wireless   \n",
       "13996 2017-11-02 04:28:20                       t-mobile usa  inc.   \n",
       "13997 2021-06-03 19:31:15                         att services inc   \n",
       "13998 2020-03-02 11:34:54                                      NaN   \n",
       "13999                 NaT               charter communications inc   \n",
       "\n",
       "            RGN_NAME STATE_PRVNC_TXT ALERT_TRGR_CD  ...             TRAN_TS  \\\n",
       "0          southwest              NV          MOBL  ... 2021-05-03 18:03:58   \n",
       "1          southwest              CA          MOBL  ... 2021-01-13 19:19:37   \n",
       "2           mountain              UT          ONLN  ... 2021-04-08 09:42:51   \n",
       "3          southwest              CA          MOBL  ... 2021-08-10 15:28:31   \n",
       "4      south central              TX          MOBL  ... 2021-06-27 11:12:44   \n",
       "...              ...             ...           ...  ...                 ...   \n",
       "13995      southwest              CA          MOBL  ... 2021-03-12 12:11:59   \n",
       "13996      southwest              CA          MOBL  ... 2021-06-11 09:28:20   \n",
       "13997      southwest              CA          MOBL  ... 2021-05-16 12:31:15   \n",
       "13998            NaN             NaN          ONLN  ... 2021-05-11 12:34:54   \n",
       "13999  south central              TX          MOBL  ... 2021-02-15 16:38:00   \n",
       "\n",
       "         TRAN_DT ACTN_CD  ACTN_INTNL_TXT TRAN_TYPE_CD   ACTVY_DT  \\\n",
       "0       5/3/2021  SCHPMT      P2P_COMMIT          P2P   5/3/2021   \n",
       "1      1/13/2021  SCHPMT      P2P_COMMIT          P2P  1/13/2021   \n",
       "2       4/8/2021  SCHPMT      P2P_COMMIT          P2P   4/8/2021   \n",
       "3      8/10/2021  SCHPMT      P2P_COMMIT          P2P  8/10/2021   \n",
       "4      6/27/2021  SCHPMT      P2P_COMMIT          P2P  6/27/2021   \n",
       "...          ...     ...             ...          ...        ...   \n",
       "13995  3/12/2021  SCHPMT      P2P_COMMIT          P2P  3/12/2021   \n",
       "13996  6/11/2021  SCHPMT      P2P_COMMIT          P2P  6/11/2021   \n",
       "13997  5/16/2021  SCHPMT      P2P_COMMIT          P2P  5/16/2021   \n",
       "13998  5/11/2021  SCHPMT      P2P_COMMIT          P2P  5/11/2021   \n",
       "13999  2/15/2021  SCHPMT      P2P_COMMIT          P2P  2/15/2021   \n",
       "\n",
       "      FRAUD_NONFRAUD In_State_Transaction DAYS_SINCE_PWD_UPDT  \\\n",
       "0                  0                    0              1203.0   \n",
       "1                  0                    0                 NaN   \n",
       "2                  1                    1              -259.0   \n",
       "3                  0                    1               549.0   \n",
       "4                  1                    1               180.0   \n",
       "...              ...                  ...                 ...   \n",
       "13995              0                    0                 NaN   \n",
       "13996              0                    1              1317.0   \n",
       "13997              1                    1               -19.0   \n",
       "13998              1                    1               435.0   \n",
       "13999              0                    1                 NaN   \n",
       "\n",
       "      DAYS_SINCE_PH_NUM_UPDT  \n",
       "0                       68.0  \n",
       "1                        NaN  \n",
       "2                      704.0  \n",
       "3                      906.0  \n",
       "4                      415.0  \n",
       "...                      ...  \n",
       "13995                 1336.0  \n",
       "13996                    NaN  \n",
       "13997                   -9.0  \n",
       "13998                    NaN  \n",
       "13999                    NaN  \n",
       "\n",
       "[14000 rows x 27 columns]"
      ]
     },
     "execution_count": 98,
     "metadata": {},
     "output_type": "execute_result"
    }
   ],
   "source": [
    "train_df"
   ]
  },
  {
   "cell_type": "markdown",
   "metadata": {
    "id": "iwVyYOjq0q_q"
   },
   "source": [
    "### Percentage of Account the Transaction is for\n"
   ]
  },
  {
   "cell_type": "code",
   "execution_count": 99,
   "metadata": {
    "id": "zCd31GRg0wqL"
   },
   "outputs": [],
   "source": [
    "train_df['TRAN_ACCT_PERCENT'] =  train_df['TRAN_AMT']/train_df[\"ACCT_PRE_TRAN_AVAIL_BAL\"]\n",
    "test_df['TRAN_ACCT_PERCENT'] =  test_df['TRAN_AMT']/train_df[\"ACCT_PRE_TRAN_AVAIL_BAL\"]"
   ]
  },
  {
   "cell_type": "code",
   "execution_count": 100,
   "metadata": {
    "id": "_Oiqf6fDFWRN"
   },
   "outputs": [],
   "source": [
    "train_df = train_df.replace({\"TRAN_ACCT_PERCENT\": {np.inf: -1}}).copy()\n",
    "test_df = test_df.replace({\"TRAN_ACCT_PERCENT\": {np.inf: -1}}).copy()"
   ]
  },
  {
   "cell_type": "markdown",
   "metadata": {
    "id": "clU0oJ9R2bNj"
   },
   "source": [
    "### Device Age Compared to Account Age"
   ]
  },
  {
   "cell_type": "code",
   "execution_count": 101,
   "metadata": {
    "id": "veaaNqv62fEH"
   },
   "outputs": [],
   "source": [
    "train_df['CUST_SINCE_DT']= pd.to_datetime(train_df['CUST_SINCE_DT'],errors='coerce')\n",
    "train_df['DAYS_SINCE_BEING_CUST'] = (train_df['TRAN_TS'] - train_df['CUST_SINCE_DT']).dt.days\n",
    "\n",
    "test_df['CUST_SINCE_DT']= pd.to_datetime(test_df['CUST_SINCE_DT'],errors='coerce')\n",
    "test_df['DAYS_SINCE_BEING_CUST'] = (test_df['TRAN_TS'] - test_df['CUST_SINCE_DT']).dt.days"
   ]
  },
  {
   "cell_type": "code",
   "execution_count": 102,
   "metadata": {
    "id": "8BgRfyOc3Pt4"
   },
   "outputs": [],
   "source": [
    "train_df['PERCENT_WF_DVC_AGE'] = train_df['WF_dvc_age']/train_df['DAYS_SINCE_BEING_CUST']\n",
    "\n",
    "test_df['PERCENT_WF_DVC_AGE'] = test_df['WF_dvc_age']/test_df['DAYS_SINCE_BEING_CUST']"
   ]
  },
  {
   "cell_type": "code",
   "execution_count": 103,
   "metadata": {
    "id": "8qPh6Ht0GW4r"
   },
   "outputs": [],
   "source": [
    "train_df = train_df.replace({\"PERCENT_WF_DVC_AGE\": {np.inf: -1}}).copy()\n",
    "\n",
    "test_df = test_df.replace({\"PERCENT_WF_DVC_AGE\": {np.inf: -1}}).copy()"
   ]
  },
  {
   "cell_type": "code",
   "execution_count": 104,
   "metadata": {
    "colab": {
     "base_uri": "https://localhost:8080/",
     "height": 0
    },
    "id": "cHYP1cPM3QjV",
    "outputId": "2cfe512a-9267-437b-953f-0327c0e0fe90"
   },
   "outputs": [
    {
     "data": {
      "text/html": [
       "<div>\n",
       "<style scoped>\n",
       "    .dataframe tbody tr th:only-of-type {\n",
       "        vertical-align: middle;\n",
       "    }\n",
       "\n",
       "    .dataframe tbody tr th {\n",
       "        vertical-align: top;\n",
       "    }\n",
       "\n",
       "    .dataframe thead th {\n",
       "        text-align: right;\n",
       "    }\n",
       "</style>\n",
       "<table border=\"1\" class=\"dataframe\">\n",
       "  <thead>\n",
       "    <tr style=\"text-align: right;\">\n",
       "      <th></th>\n",
       "      <th>TRAN_AMT</th>\n",
       "      <th>ACCT_PRE_TRAN_AVAIL_BAL</th>\n",
       "      <th>CUST_AGE</th>\n",
       "      <th>OPEN_ACCT_CT</th>\n",
       "      <th>WF_dvc_age</th>\n",
       "      <th>PWD_UPDT_TS</th>\n",
       "      <th>CARR_NAME</th>\n",
       "      <th>RGN_NAME</th>\n",
       "      <th>STATE_PRVNC_TXT</th>\n",
       "      <th>ALERT_TRGR_CD</th>\n",
       "      <th>...</th>\n",
       "      <th>ACTN_INTNL_TXT</th>\n",
       "      <th>TRAN_TYPE_CD</th>\n",
       "      <th>ACTVY_DT</th>\n",
       "      <th>FRAUD_NONFRAUD</th>\n",
       "      <th>In_State_Transaction</th>\n",
       "      <th>DAYS_SINCE_PWD_UPDT</th>\n",
       "      <th>DAYS_SINCE_PH_NUM_UPDT</th>\n",
       "      <th>TRAN_ACCT_PERCENT</th>\n",
       "      <th>DAYS_SINCE_BEING_CUST</th>\n",
       "      <th>PERCENT_WF_DVC_AGE</th>\n",
       "    </tr>\n",
       "  </thead>\n",
       "  <tbody>\n",
       "  </tbody>\n",
       "</table>\n",
       "<p>0 rows × 30 columns</p>\n",
       "</div>"
      ],
      "text/plain": [
       "Empty DataFrame\n",
       "Columns: [TRAN_AMT, ACCT_PRE_TRAN_AVAIL_BAL, CUST_AGE, OPEN_ACCT_CT, WF_dvc_age, PWD_UPDT_TS, CARR_NAME, RGN_NAME, STATE_PRVNC_TXT, ALERT_TRGR_CD, DVC_TYPE_TXT, AUTHC_PRIM_TYPE_CD, AUTHC_SCNDRY_STAT_TXT, CUST_ZIP, CUST_STATE, PH_NUM_UPDT_TS, CUST_SINCE_DT, TRAN_TS, TRAN_DT, ACTN_CD, ACTN_INTNL_TXT, TRAN_TYPE_CD, ACTVY_DT, FRAUD_NONFRAUD, In_State_Transaction, DAYS_SINCE_PWD_UPDT, DAYS_SINCE_PH_NUM_UPDT, TRAN_ACCT_PERCENT, DAYS_SINCE_BEING_CUST, PERCENT_WF_DVC_AGE]\n",
       "Index: []\n",
       "\n",
       "[0 rows x 30 columns]"
      ]
     },
     "execution_count": 104,
     "metadata": {},
     "output_type": "execute_result"
    }
   ],
   "source": [
    "train_df.loc[train_df['PERCENT_WF_DVC_AGE'] == np.inf]"
   ]
  },
  {
   "cell_type": "markdown",
   "metadata": {
    "id": "hp_Rr7uU4EHL"
   },
   "source": [
    "### DVC_TYPE_TXT compared to ALERT_TRGR_CD"
   ]
  },
  {
   "cell_type": "code",
   "execution_count": 105,
   "metadata": {
    "colab": {
     "base_uri": "https://localhost:8080/",
     "height": 0
    },
    "id": "H9msPDei36Un",
    "outputId": "6702c8db-d61d-4f34-c531-c1aa02b989e3"
   },
   "outputs": [
    {
     "data": {
      "image/png": "[encoded data removed]",
      "text/plain": [
       "<Figure size 640x480 with 2 Axes>"
      ]
     },
     "metadata": {},
     "output_type": "display_data"
    }
   ],
   "source": [
    "cf_matrix = pd.crosstab(train_df['DVC_TYPE_TXT'], columns=[train_df['ALERT_TRGR_CD']], values=train_df['FRAUD_NONFRAUD'], aggfunc='sum').fillna(0)\n",
    "\n",
    "sns.heatmap(cf_matrix, annot=True, fmt='',cmap='Greens')\n",
    "plt.show()"
   ]
  },
  {
   "cell_type": "markdown",
   "metadata": {
    "id": "PIVIYGIW8W02"
   },
   "source": [
    "Best to one hot encode this since there oes not seem to be any notable relation ship bwtween the two variables rather then make a feature"
   ]
  },
  {
   "cell_type": "markdown",
   "metadata": {
    "id": "rlp6g-e24syo"
   },
   "source": [
    "### Transaction type"
   ]
  },
  {
   "cell_type": "code",
   "execution_count": 106,
   "metadata": {
    "colab": {
     "base_uri": "https://localhost:8080/",
     "height": 0
    },
    "id": "6wnBZRkc4umf",
    "outputId": "c21d2ce7-1d2c-4b8e-dce9-80099c107942"
   },
   "outputs": [
    {
     "data": {
      "image/png": "[encoded data removed]",
      "text/plain": [
       "<Figure size 640x480 with 2 Axes>"
      ]
     },
     "metadata": {},
     "output_type": "display_data"
    }
   ],
   "source": [
    "cf_matrix = pd.crosstab(train_df['AUTHC_PRIM_TYPE_CD'], train_df['FRAUD_NONFRAUD'], rownames=['AUTHC_PRIM_TYPE_CD'], colnames=['FRAUD_NONFRAUD'])\n",
    "\n",
    "sns.heatmap(cf_matrix/np.sum(cf_matrix), annot=True, \n",
    "            fmt='.2%', cmap='Reds')\n",
    "plt.show()"
   ]
  },
  {
   "cell_type": "markdown",
   "metadata": {
    "id": "n8Lh05W6-PU0"
   },
   "source": [
    "### One hot encodings"
   ]
  },
  {
   "cell_type": "code",
   "execution_count": 107,
   "metadata": {
    "colab": {
     "base_uri": "https://localhost:8080/",
     "height": 0
    },
    "id": "GV4yR3HO-0Vr",
    "outputId": "a8776164-63b9-4737-844f-d656bba50777"
   },
   "outputs": [
    {
     "data": {
      "text/html": [
       "<div>\n",
       "<style scoped>\n",
       "    .dataframe tbody tr th:only-of-type {\n",
       "        vertical-align: middle;\n",
       "    }\n",
       "\n",
       "    .dataframe tbody tr th {\n",
       "        vertical-align: top;\n",
       "    }\n",
       "\n",
       "    .dataframe thead th {\n",
       "        text-align: right;\n",
       "    }\n",
       "</style>\n",
       "<table border=\"1\" class=\"dataframe\">\n",
       "  <thead>\n",
       "    <tr style=\"text-align: right;\">\n",
       "      <th></th>\n",
       "      <th>TRAN_AMT</th>\n",
       "      <th>ACCT_PRE_TRAN_AVAIL_BAL</th>\n",
       "      <th>CUST_AGE</th>\n",
       "      <th>OPEN_ACCT_CT</th>\n",
       "      <th>WF_dvc_age</th>\n",
       "      <th>PWD_UPDT_TS</th>\n",
       "      <th>CARR_NAME</th>\n",
       "      <th>RGN_NAME</th>\n",
       "      <th>STATE_PRVNC_TXT</th>\n",
       "      <th>ALERT_TRGR_CD</th>\n",
       "      <th>...</th>\n",
       "      <th>ACTN_INTNL_TXT</th>\n",
       "      <th>TRAN_TYPE_CD</th>\n",
       "      <th>ACTVY_DT</th>\n",
       "      <th>FRAUD_NONFRAUD</th>\n",
       "      <th>In_State_Transaction</th>\n",
       "      <th>DAYS_SINCE_PWD_UPDT</th>\n",
       "      <th>DAYS_SINCE_PH_NUM_UPDT</th>\n",
       "      <th>TRAN_ACCT_PERCENT</th>\n",
       "      <th>DAYS_SINCE_BEING_CUST</th>\n",
       "      <th>PERCENT_WF_DVC_AGE</th>\n",
       "    </tr>\n",
       "  </thead>\n",
       "  <tbody>\n",
       "    <tr>\n",
       "      <th>0</th>\n",
       "      <td>5.38</td>\n",
       "      <td>23619.91</td>\n",
       "      <td>47</td>\n",
       "      <td>4</td>\n",
       "      <td>2777</td>\n",
       "      <td>2018-01-16 11:03:58</td>\n",
       "      <td>cox communications inc.</td>\n",
       "      <td>southwest</td>\n",
       "      <td>NV</td>\n",
       "      <td>MOBL</td>\n",
       "      <td>...</td>\n",
       "      <td>P2P_COMMIT</td>\n",
       "      <td>P2P</td>\n",
       "      <td>5/3/2021</td>\n",
       "      <td>0</td>\n",
       "      <td>0</td>\n",
       "      <td>1203.0</td>\n",
       "      <td>68.0</td>\n",
       "      <td>0.000228</td>\n",
       "      <td>10344</td>\n",
       "      <td>0.268465</td>\n",
       "    </tr>\n",
       "    <tr>\n",
       "      <th>1</th>\n",
       "      <td>65.19</td>\n",
       "      <td>0.00</td>\n",
       "      <td>45</td>\n",
       "      <td>5</td>\n",
       "      <td>2721</td>\n",
       "      <td>NaT</td>\n",
       "      <td>charter communications</td>\n",
       "      <td>southwest</td>\n",
       "      <td>CA</td>\n",
       "      <td>MOBL</td>\n",
       "      <td>...</td>\n",
       "      <td>P2P_COMMIT</td>\n",
       "      <td>P2P</td>\n",
       "      <td>1/13/2021</td>\n",
       "      <td>0</td>\n",
       "      <td>0</td>\n",
       "      <td>NaN</td>\n",
       "      <td>NaN</td>\n",
       "      <td>-1.000000</td>\n",
       "      <td>18269</td>\n",
       "      <td>0.148941</td>\n",
       "    </tr>\n",
       "  </tbody>\n",
       "</table>\n",
       "<p>2 rows × 30 columns</p>\n",
       "</div>"
      ],
      "text/plain": [
       "   TRAN_AMT  ACCT_PRE_TRAN_AVAIL_BAL  CUST_AGE  OPEN_ACCT_CT  WF_dvc_age  \\\n",
       "0      5.38                 23619.91        47             4        2777   \n",
       "1     65.19                     0.00        45             5        2721   \n",
       "\n",
       "          PWD_UPDT_TS                CARR_NAME   RGN_NAME STATE_PRVNC_TXT  \\\n",
       "0 2018-01-16 11:03:58  cox communications inc.  southwest              NV   \n",
       "1                 NaT   charter communications  southwest              CA   \n",
       "\n",
       "  ALERT_TRGR_CD  ... ACTN_INTNL_TXT TRAN_TYPE_CD   ACTVY_DT  FRAUD_NONFRAUD  \\\n",
       "0          MOBL  ...     P2P_COMMIT          P2P   5/3/2021               0   \n",
       "1          MOBL  ...     P2P_COMMIT          P2P  1/13/2021               0   \n",
       "\n",
       "  In_State_Transaction DAYS_SINCE_PWD_UPDT DAYS_SINCE_PH_NUM_UPDT  \\\n",
       "0                    0              1203.0                   68.0   \n",
       "1                    0                 NaN                    NaN   \n",
       "\n",
       "  TRAN_ACCT_PERCENT DAYS_SINCE_BEING_CUST PERCENT_WF_DVC_AGE  \n",
       "0          0.000228                 10344           0.268465  \n",
       "1         -1.000000                 18269           0.148941  \n",
       "\n",
       "[2 rows x 30 columns]"
      ]
     },
     "execution_count": 107,
     "metadata": {},
     "output_type": "execute_result"
    }
   ],
   "source": [
    "train_df.head(2)"
   ]
  },
  {
   "cell_type": "code",
   "execution_count": 108,
   "metadata": {
    "id": "U-O32Jfd41Dw"
   },
   "outputs": [],
   "source": [
    "df_AUTHC_PRIM_TYPE_CD = pd.get_dummies(train_df.AUTHC_PRIM_TYPE_CD, prefix='AUTHC_PRIM_TYPE_CD')\n",
    "df_ALERT_TRGR_CD = pd.get_dummies(train_df.ALERT_TRGR_CD, prefix='ALERT_TRGR_CD')\n",
    "df_DVC_TYPE_TXT = pd.get_dummies(train_df.DVC_TYPE_TXT, prefix='DVC_TYPE_TXT')\n",
    "df_AUTHC_SCNDRY_STAT_TXT = pd.get_dummies(train_df.AUTHC_SCNDRY_STAT_TXT, prefix='AUTHC_SCNDRY_STAT_TXT')\n",
    "\n",
    "df_AUTHC_PRIM_TYPE_CD_TEST = pd.get_dummies(test_df.AUTHC_PRIM_TYPE_CD, prefix='AUTHC_PRIM_TYPE_CD')\n",
    "df_ALERT_TRGR_CD_TEST = pd.get_dummies(test_df.ALERT_TRGR_CD, prefix='ALERT_TRGR_CD')\n",
    "df_DVC_TYPE_TXT_TEST = pd.get_dummies(test_df.DVC_TYPE_TXT, prefix='DVC_TYPE_TXT')\n",
    "df_AUTHC_SCNDRY_STAT_TXT_TEST = pd.get_dummies(test_df.AUTHC_SCNDRY_STAT_TXT, prefix='AUTHC_SCNDRY_STAT_TXT')"
   ]
  },
  {
   "cell_type": "code",
   "execution_count": 109,
   "metadata": {
    "id": "omt68oxR_If6"
   },
   "outputs": [],
   "source": [
    "train_df = pd.concat([train_df, df_ALERT_TRGR_CD], axis=1).copy()\n",
    "test_df = pd.concat([test_df, df_ALERT_TRGR_CD_TEST], axis=1).copy()"
   ]
  },
  {
   "cell_type": "code",
   "execution_count": 110,
   "metadata": {
    "id": "qw-XOm0j_v5Q"
   },
   "outputs": [],
   "source": [
    "final_Train_df = train_df[[\"TRAN_AMT\", \"ACCT_PRE_TRAN_AVAIL_BAL\", \"CUST_AGE\", \"OPEN_ACCT_CT\", \"WF_dvc_age\",\"In_State_Transaction\",\"DAYS_SINCE_PWD_UPDT\", \"DAYS_SINCE_PH_NUM_UPDT\",\n",
    "                          \"TRAN_ACCT_PERCENT\", \"DAYS_SINCE_BEING_CUST\", \"PERCENT_WF_DVC_AGE\",\"ALERT_TRGR_CD_MOBL\", \"ALERT_TRGR_CD_ONLN\", \"FRAUD_NONFRAUD\"]]\n",
    "\n",
    "final_Test_df = test_df[[\"TRAN_AMT\", \"ACCT_PRE_TRAN_AVAIL_BAL\", \"CUST_AGE\", \"OPEN_ACCT_CT\", \"WF_dvc_age\",\"In_State_Transaction\",\"DAYS_SINCE_PWD_UPDT\", \"DAYS_SINCE_PH_NUM_UPDT\",\n",
    "                          \"TRAN_ACCT_PERCENT\", \"DAYS_SINCE_BEING_CUST\", \"PERCENT_WF_DVC_AGE\", \"ALERT_TRGR_CD_MOBL\", \"ALERT_TRGR_CD_ONLN\"]]"
   ]
  },
  {
   "cell_type": "code",
   "execution_count": 111,
   "metadata": {
    "id": "3PzzCm8xBqzD"
   },
   "outputs": [],
   "source": [
    "final_Train_df = final_Train_df.drop(columns='ALERT_TRGR_CD_ONLN')\n",
    "final_Test_df = final_Test_df.drop(columns='ALERT_TRGR_CD_ONLN')"
   ]
  },
  {
   "cell_type": "markdown",
   "metadata": {
    "id": "bXs5FXMgCi3q"
   },
   "source": [
    "# XG Boost Classification Model"
   ]
  },
  {
   "cell_type": "code",
   "execution_count": 112,
   "metadata": {
    "colab": {
     "base_uri": "https://localhost:8080/"
    },
    "id": "Dd0Gb_FtHfu2",
    "outputId": "908911b9-fc55-4f54-80ac-ed48cfc39306"
   },
   "outputs": [
    {
     "name": "stdout",
     "output_type": "stream",
     "text": [
      "Requirement already satisfied: eli5 in c:\\users\\gokul\\anaconda3\\lib\\site-packages (0.11.0)\n",
      "Requirement already satisfied: graphviz in c:\\users\\gokul\\anaconda3\\lib\\site-packages (from eli5) (0.19.1)\n",
      "Requirement already satisfied: scikit-learn>=0.20 in c:\\users\\gokul\\anaconda3\\lib\\site-packages (from eli5) (1.0.1)\n",
      "Requirement already satisfied: six in c:\\users\\gokul\\anaconda3\\lib\\site-packages (from eli5) (1.15.0)\n",
      "Requirement already satisfied: numpy>=1.9.0 in c:\\users\\gokul\\anaconda3\\lib\\site-packages (from eli5) (1.22.2)\n",
      "Requirement already satisfied: scipy in c:\\users\\gokul\\anaconda3\\lib\\site-packages (from eli5) (1.5.0)\n",
      "Requirement already satisfied: jinja2 in c:\\users\\gokul\\anaconda3\\lib\\site-packages (from eli5) (2.11.2)\n",
      "Requirement already satisfied: tabulate>=0.7.7 in c:\\users\\gokul\\anaconda3\\lib\\site-packages (from eli5) (0.8.9)\n",
      "Requirement already satisfied: attrs>16.0.0 in c:\\users\\gokul\\anaconda3\\lib\\site-packages (from eli5) (19.3.0)\n",
      "Requirement already satisfied: joblib>=0.11 in c:\\users\\gokul\\anaconda3\\lib\\site-packages (from scikit-learn>=0.20->eli5) (0.16.0)\n",
      "Requirement already satisfied: threadpoolctl>=2.0.0 in c:\\users\\gokul\\anaconda3\\lib\\site-packages (from scikit-learn>=0.20->eli5) (2.1.0)\n",
      "Requirement already satisfied: MarkupSafe>=0.23 in c:\\users\\gokul\\anaconda3\\lib\\site-packages (from jinja2->eli5) (1.1.1)\n"
     ]
    },
    {
     "name": "stderr",
     "output_type": "stream",
     "text": [
      "WARNING: You are using pip version 21.3.1; however, version 22.0.4 is available.\n",
      "You should consider upgrading via the 'c:\\users\\gokul\\anaconda3\\python.exe -m pip install --upgrade pip' command.\n"
     ]
    }
   ],
   "source": [
    "import xgboost as xgb\n",
    "from xgboost import XGBClassifier\n",
    "from sklearn.model_selection import train_test_split\n",
    "from sklearn.metrics import accuracy_score\n",
    "from sklearn.metrics import f1_score\n",
    "\n",
    "!pip install eli5\n",
    "\n",
    "from eli5 import show_weights\n",
    "from eli5 import explain_prediction"
   ]
  },
  {
   "cell_type": "code",
   "execution_count": 113,
   "metadata": {
    "id": "u8_BenXQHsqx"
   },
   "outputs": [],
   "source": [
    "X = final_Train_df.drop(\"FRAUD_NONFRAUD\", axis =1)\n",
    "Y = final_Train_df.FRAUD_NONFRAUD"
   ]
  },
  {
   "cell_type": "code",
   "execution_count": 114,
   "metadata": {
    "colab": {
     "base_uri": "https://localhost:8080/"
    },
    "id": "ODBlHsWMEZre",
    "outputId": "78618729-2128-436d-8edf-86ef37da1d48"
   },
   "outputs": [
    {
     "name": "stdout",
     "output_type": "stream",
     "text": [
      "[17:44:04] WARNING: C:/Users/Administrator/workspace/xgboost-win64_release_1.5.1/src/learner.cc:1115: Starting in XGBoost 1.3.0, the default evaluation metric used with the objective 'binary:logistic' was changed from 'error' to 'logloss'. Explicitly set eval_metric if you'd like to restore the old behavior.\n",
      "Accuracy: 94.61%\n"
     ]
    }
   ],
   "source": [
    "seed = 15\n",
    "test_size = 0.33\n",
    "X_train, X_test, y_train, y_test = train_test_split(X, Y, test_size=test_size, random_state=seed)\n",
    "\n",
    "# fit model no training data\n",
    "model = XGBClassifier()\n",
    "model.fit(X_train, y_train)\n",
    "\n",
    "# make predictions for test data\n",
    "y_pred = model.predict(X_test)\n",
    "predictions = [round(value) for value in y_pred]\n",
    "\n",
    "# evaluate predictions\n",
    "accuracy = accuracy_score(y_test, predictions)\n",
    "print(\"Accuracy: %.2f%%\" % (accuracy * 100.0))"
   ]
  },
  {
   "cell_type": "code",
   "execution_count": 115,
   "metadata": {
    "colab": {
     "base_uri": "https://localhost:8080/"
    },
    "id": "SwKKAe-ilOTu",
    "outputId": "251a533e-d639-47ed-afe7-572df3f29041"
   },
   "outputs": [
    {
     "name": "stdout",
     "output_type": "stream",
     "text": [
      "0.9078119215105518\n"
     ]
    }
   ],
   "source": [
    "y_true = y_test\n",
    "y_pred = model.predict(X_test)\n",
    "print(f1_score(y_true, y_pred))"
   ]
  },
  {
   "cell_type": "code",
   "execution_count": 116,
   "metadata": {
    "colab": {
     "base_uri": "https://localhost:8080/",
     "height": 334
    },
    "id": "zZ5aq5r7mc--",
    "outputId": "901dfa5c-a632-4002-ab73-ae3214759c4c"
   },
   "outputs": [
    {
     "data": {
      "image/png": "[encoded data removed]",
      "text/plain": [
       "<Figure size 640x480 with 2 Axes>"
      ]
     },
     "metadata": {},
     "output_type": "display_data"
    }
   ],
   "source": [
    "pred_cf_matrix = pd.crosstab(y_true, y_pred, rownames=['True Value'], colnames=['Prediction Value'])\n",
    "\n",
    "sns.heatmap(pred_cf_matrix/np.sum(pred_cf_matrix), annot=True, \n",
    "            fmt='.2%', cmap='flare')\n",
    "plt.show()"
   ]
  },
  {
   "cell_type": "code",
   "execution_count": 118,
   "metadata": {
    "colab": {
     "base_uri": "https://localhost:8080/",
     "height": 621
    },
    "id": "XKXtzJjeKRqP",
    "outputId": "e4c10b26-c312-445d-f889-8c910b4a1a04"
   },
   "outputs": [
    {
     "data": {
      "image/png": "[encoded data removed]",
      "text/plain": [
       "<Figure size 640x480 with 1 Axes>"
      ]
     },
     "metadata": {},
     "output_type": "display_data"
    },
    {
     "data": {
      "image/png": "[encoded data removed]",
      "text/plain": [
       "<Figure size 640x480 with 1 Axes>"
      ]
     },
     "metadata": {},
     "output_type": "display_data"
    }
   ],
   "source": [
    "xgb.plot_importance(model, max_num_features=25)\n",
    "plt.rcParams['figure.figsize'] = [5, 5]\n",
    "plt.show()"
   ]
  },
  {
   "cell_type": "code",
   "execution_count": 119,
   "metadata": {
    "colab": {
     "base_uri": "https://localhost:8080/",
     "height": 242
    },
    "id": "4aZnaaIQKqN1",
    "outputId": "8749557f-96c7-4258-c786-7ff3c39f4b67"
   },
   "outputs": [
    {
     "data": {
      "text/html": [
       "\n",
       "    <style>\n",
       "    table.eli5-weights tr:hover {\n",
       "        filter: brightness(85%);\n",
       "    }\n",
       "</style>\n",
       "\n",
       "\n",
       "\n",
       "    \n",
       "\n",
       "    \n",
       "\n",
       "    \n",
       "\n",
       "    \n",
       "\n",
       "    \n",
       "\n",
       "    \n",
       "\n",
       "\n",
       "    \n",
       "\n",
       "    \n",
       "\n",
       "    \n",
       "\n",
       "    \n",
       "\n",
       "    \n",
       "\n",
       "    \n",
       "\n",
       "\n",
       "    \n",
       "\n",
       "    \n",
       "\n",
       "    \n",
       "\n",
       "    \n",
       "\n",
       "    \n",
       "        <table class=\"eli5-weights eli5-feature-importances\" style=\"border-collapse: collapse; border: none; margin-top: 0em; table-layout: auto;\">\n",
       "    <thead>\n",
       "    <tr style=\"border: none;\">\n",
       "        <th style=\"padding: 0 1em 0 0.5em; text-align: right; border: none;\">Weight</th>\n",
       "        <th style=\"padding: 0 0.5em 0 0.5em; text-align: left; border: none;\">Feature</th>\n",
       "    </tr>\n",
       "    </thead>\n",
       "    <tbody>\n",
       "    \n",
       "        <tr style=\"background-color: hsl(120, 100.00%, 80.00%); border: none;\">\n",
       "            <td style=\"padding: 0 1em 0 0.5em; text-align: right; border: none;\">\n",
       "                0.4791\n",
       "                \n",
       "            </td>\n",
       "            <td style=\"padding: 0 0.5em 0 0.5em; text-align: left; border: none;\">\n",
       "                TRAN_AMT\n",
       "            </td>\n",
       "        </tr>\n",
       "    \n",
       "        <tr style=\"background-color: hsl(120, 100.00%, 93.15%); border: none;\">\n",
       "            <td style=\"padding: 0 1em 0 0.5em; text-align: right; border: none;\">\n",
       "                0.1036\n",
       "                \n",
       "            </td>\n",
       "            <td style=\"padding: 0 0.5em 0 0.5em; text-align: left; border: none;\">\n",
       "                ACCT_PRE_TRAN_AVAIL_BAL\n",
       "            </td>\n",
       "        </tr>\n",
       "    \n",
       "        <tr style=\"background-color: hsl(120, 100.00%, 93.76%); border: none;\">\n",
       "            <td style=\"padding: 0 1em 0 0.5em; text-align: right; border: none;\">\n",
       "                0.0907\n",
       "                \n",
       "            </td>\n",
       "            <td style=\"padding: 0 0.5em 0 0.5em; text-align: left; border: none;\">\n",
       "                In_State_Transaction\n",
       "            </td>\n",
       "        </tr>\n",
       "    \n",
       "        <tr style=\"background-color: hsl(120, 100.00%, 95.81%); border: none;\">\n",
       "            <td style=\"padding: 0 1em 0 0.5em; text-align: right; border: none;\">\n",
       "                0.0513\n",
       "                \n",
       "            </td>\n",
       "            <td style=\"padding: 0 0.5em 0 0.5em; text-align: left; border: none;\">\n",
       "                WF_dvc_age\n",
       "            </td>\n",
       "        </tr>\n",
       "    \n",
       "        <tr style=\"background-color: hsl(120, 100.00%, 96.24%); border: none;\">\n",
       "            <td style=\"padding: 0 1em 0 0.5em; text-align: right; border: none;\">\n",
       "                0.0441\n",
       "                \n",
       "            </td>\n",
       "            <td style=\"padding: 0 0.5em 0 0.5em; text-align: left; border: none;\">\n",
       "                PERCENT_WF_DVC_AGE\n",
       "            </td>\n",
       "        </tr>\n",
       "    \n",
       "        <tr style=\"background-color: hsl(120, 100.00%, 96.45%); border: none;\">\n",
       "            <td style=\"padding: 0 1em 0 0.5em; text-align: right; border: none;\">\n",
       "                0.0406\n",
       "                \n",
       "            </td>\n",
       "            <td style=\"padding: 0 0.5em 0 0.5em; text-align: left; border: none;\">\n",
       "                DAYS_SINCE_PWD_UPDT\n",
       "            </td>\n",
       "        </tr>\n",
       "    \n",
       "        <tr style=\"background-color: hsl(120, 100.00%, 96.52%); border: none;\">\n",
       "            <td style=\"padding: 0 1em 0 0.5em; text-align: right; border: none;\">\n",
       "                0.0393\n",
       "                \n",
       "            </td>\n",
       "            <td style=\"padding: 0 0.5em 0 0.5em; text-align: left; border: none;\">\n",
       "                DAYS_SINCE_PH_NUM_UPDT\n",
       "            </td>\n",
       "        </tr>\n",
       "    \n",
       "        <tr style=\"background-color: hsl(120, 100.00%, 96.55%); border: none;\">\n",
       "            <td style=\"padding: 0 1em 0 0.5em; text-align: right; border: none;\">\n",
       "                0.0388\n",
       "                \n",
       "            </td>\n",
       "            <td style=\"padding: 0 0.5em 0 0.5em; text-align: left; border: none;\">\n",
       "                TRAN_ACCT_PERCENT\n",
       "            </td>\n",
       "        </tr>\n",
       "    \n",
       "        <tr style=\"background-color: hsl(120, 100.00%, 96.80%); border: none;\">\n",
       "            <td style=\"padding: 0 1em 0 0.5em; text-align: right; border: none;\">\n",
       "                0.0349\n",
       "                \n",
       "            </td>\n",
       "            <td style=\"padding: 0 0.5em 0 0.5em; text-align: left; border: none;\">\n",
       "                ALERT_TRGR_CD_MOBL\n",
       "            </td>\n",
       "        </tr>\n",
       "    \n",
       "        <tr style=\"background-color: hsl(120, 100.00%, 97.06%); border: none;\">\n",
       "            <td style=\"padding: 0 1em 0 0.5em; text-align: right; border: none;\">\n",
       "                0.0310\n",
       "                \n",
       "            </td>\n",
       "            <td style=\"padding: 0 0.5em 0 0.5em; text-align: left; border: none;\">\n",
       "                OPEN_ACCT_CT\n",
       "            </td>\n",
       "        </tr>\n",
       "    \n",
       "        <tr style=\"background-color: hsl(120, 100.00%, 97.57%); border: none;\">\n",
       "            <td style=\"padding: 0 1em 0 0.5em; text-align: right; border: none;\">\n",
       "                0.0236\n",
       "                \n",
       "            </td>\n",
       "            <td style=\"padding: 0 0.5em 0 0.5em; text-align: left; border: none;\">\n",
       "                DAYS_SINCE_BEING_CUST\n",
       "            </td>\n",
       "        </tr>\n",
       "    \n",
       "        <tr style=\"background-color: hsl(120, 100.00%, 97.62%); border: none;\">\n",
       "            <td style=\"padding: 0 1em 0 0.5em; text-align: right; border: none;\">\n",
       "                0.0230\n",
       "                \n",
       "            </td>\n",
       "            <td style=\"padding: 0 0.5em 0 0.5em; text-align: left; border: none;\">\n",
       "                CUST_AGE\n",
       "            </td>\n",
       "        </tr>\n",
       "    \n",
       "    \n",
       "    </tbody>\n",
       "</table>\n",
       "    \n",
       "\n",
       "    \n",
       "\n",
       "\n",
       "    \n",
       "\n",
       "    \n",
       "\n",
       "    \n",
       "\n",
       "    \n",
       "\n",
       "    \n",
       "\n",
       "    \n",
       "\n",
       "\n",
       "\n"
      ],
      "text/plain": [
       "<IPython.core.display.HTML object>"
      ]
     },
     "execution_count": 119,
     "metadata": {},
     "output_type": "execute_result"
    }
   ],
   "source": [
    "show_weights(model)"
   ]
  },
  {
   "cell_type": "code",
   "execution_count": 120,
   "metadata": {
    "colab": {
     "base_uri": "https://localhost:8080/"
    },
    "id": "lW_TpAWYkwDp",
    "outputId": "8f23664d-d196-4a35-d17a-78d72e53dd07"
   },
   "outputs": [
    {
     "data": {
      "text/plain": [
       "TRAN_AMT                     54.250000\n",
       "ACCT_PRE_TRAN_AVAIL_BAL       0.000000\n",
       "CUST_AGE                     23.000000\n",
       "OPEN_ACCT_CT                  4.000000\n",
       "WF_dvc_age                  634.000000\n",
       "In_State_Transaction          1.000000\n",
       "DAYS_SINCE_PWD_UPDT         112.000000\n",
       "DAYS_SINCE_PH_NUM_UPDT      915.000000\n",
       "TRAN_ACCT_PERCENT             0.002297\n",
       "DAYS_SINCE_BEING_CUST      3611.000000\n",
       "PERCENT_WF_DVC_AGE            0.175575\n",
       "ALERT_TRGR_CD_MOBL            1.000000\n",
       "Name: 0, dtype: float64"
      ]
     },
     "execution_count": 120,
     "metadata": {},
     "output_type": "execute_result"
    }
   ],
   "source": [
    "final_Test_df.iloc[0]"
   ]
  },
  {
   "cell_type": "code",
   "execution_count": 121,
   "metadata": {
    "colab": {
     "base_uri": "https://localhost:8080/",
     "height": 315
    },
    "id": "Zre4bZm8L0Tb",
    "outputId": "cf1837a0-0cd3-4c3e-e0dd-92c66620af9f"
   },
   "outputs": [
    {
     "data": {
      "text/html": [
       "\n",
       "    <style>\n",
       "    table.eli5-weights tr:hover {\n",
       "        filter: brightness(85%);\n",
       "    }\n",
       "</style>\n",
       "\n",
       "\n",
       "\n",
       "    \n",
       "\n",
       "    \n",
       "\n",
       "    \n",
       "\n",
       "    \n",
       "\n",
       "    \n",
       "\n",
       "    \n",
       "\n",
       "\n",
       "    \n",
       "\n",
       "    \n",
       "\n",
       "    \n",
       "\n",
       "    \n",
       "        \n",
       "\n",
       "    \n",
       "\n",
       "        \n",
       "            \n",
       "                \n",
       "                \n",
       "    \n",
       "        <p style=\"margin-bottom: 0.5em; margin-top: 0em\">\n",
       "            <b>\n",
       "    \n",
       "        y=0\n",
       "    \n",
       "</b>\n",
       "\n",
       "    \n",
       "    (probability <b>1.000</b>, score <b>-10.646</b>)\n",
       "\n",
       "top features\n",
       "        </p>\n",
       "    \n",
       "    <table class=\"eli5-weights\"\n",
       "           style=\"border-collapse: collapse; border: none; margin-top: 0em; table-layout: auto; margin-bottom: 2em;\">\n",
       "        <thead>\n",
       "        <tr style=\"border: none;\">\n",
       "            \n",
       "                <th style=\"padding: 0 1em 0 0.5em; text-align: right; border: none;\" title=\"Feature contribution already accounts for the feature value (for linear models, contribution = weight * feature value), and the sum of feature contributions is equal to the score or, for some classifiers, to the probability. Feature values are shown if &quot;show_feature_values&quot; is True.\">\n",
       "                    Contribution<sup>?</sup>\n",
       "                </th>\n",
       "            \n",
       "            <th style=\"padding: 0 0.5em 0 0.5em; text-align: left; border: none;\">Feature</th>\n",
       "            \n",
       "        </tr>\n",
       "        </thead>\n",
       "        <tbody>\n",
       "        \n",
       "            <tr style=\"background-color: hsl(120, 100.00%, 80.00%); border: none;\">\n",
       "    <td style=\"padding: 0 1em 0 0.5em; text-align: right; border: none;\">\n",
       "        +4.951\n",
       "    </td>\n",
       "    <td style=\"padding: 0 0.5em 0 0.5em; text-align: left; border: none;\">\n",
       "        ACCT_PRE_TRAN_AVAIL_BAL\n",
       "    </td>\n",
       "    \n",
       "</tr>\n",
       "        \n",
       "            <tr style=\"background-color: hsl(120, 100.00%, 89.27%); border: none;\">\n",
       "    <td style=\"padding: 0 1em 0 0.5em; text-align: right; border: none;\">\n",
       "        +2.033\n",
       "    </td>\n",
       "    <td style=\"padding: 0 0.5em 0 0.5em; text-align: left; border: none;\">\n",
       "        TRAN_ACCT_PERCENT\n",
       "    </td>\n",
       "    \n",
       "</tr>\n",
       "        \n",
       "            <tr style=\"background-color: hsl(120, 100.00%, 91.49%); border: none;\">\n",
       "    <td style=\"padding: 0 1em 0 0.5em; text-align: right; border: none;\">\n",
       "        +1.462\n",
       "    </td>\n",
       "    <td style=\"padding: 0 0.5em 0 0.5em; text-align: left; border: none;\">\n",
       "        &lt;BIAS&gt;\n",
       "    </td>\n",
       "    \n",
       "</tr>\n",
       "        \n",
       "            <tr style=\"background-color: hsl(120, 100.00%, 91.87%); border: none;\">\n",
       "    <td style=\"padding: 0 1em 0 0.5em; text-align: right; border: none;\">\n",
       "        +1.369\n",
       "    </td>\n",
       "    <td style=\"padding: 0 0.5em 0 0.5em; text-align: left; border: none;\">\n",
       "        TRAN_AMT\n",
       "    </td>\n",
       "    \n",
       "</tr>\n",
       "        \n",
       "            <tr style=\"background-color: hsl(120, 100.00%, 96.63%); border: none;\">\n",
       "    <td style=\"padding: 0 1em 0 0.5em; text-align: right; border: none;\">\n",
       "        +0.389\n",
       "    </td>\n",
       "    <td style=\"padding: 0 0.5em 0 0.5em; text-align: left; border: none;\">\n",
       "        DAYS_SINCE_PWD_UPDT\n",
       "    </td>\n",
       "    \n",
       "</tr>\n",
       "        \n",
       "            <tr style=\"background-color: hsl(120, 100.00%, 98.09%); border: none;\">\n",
       "    <td style=\"padding: 0 1em 0 0.5em; text-align: right; border: none;\">\n",
       "        +0.172\n",
       "    </td>\n",
       "    <td style=\"padding: 0 0.5em 0 0.5em; text-align: left; border: none;\">\n",
       "        ALERT_TRGR_CD_MOBL\n",
       "    </td>\n",
       "    \n",
       "</tr>\n",
       "        \n",
       "            <tr style=\"background-color: hsl(120, 100.00%, 98.16%); border: none;\">\n",
       "    <td style=\"padding: 0 1em 0 0.5em; text-align: right; border: none;\">\n",
       "        +0.163\n",
       "    </td>\n",
       "    <td style=\"padding: 0 0.5em 0 0.5em; text-align: left; border: none;\">\n",
       "        OPEN_ACCT_CT\n",
       "    </td>\n",
       "    \n",
       "</tr>\n",
       "        \n",
       "            <tr style=\"background-color: hsl(120, 100.00%, 98.59%); border: none;\">\n",
       "    <td style=\"padding: 0 1em 0 0.5em; text-align: right; border: none;\">\n",
       "        +0.112\n",
       "    </td>\n",
       "    <td style=\"padding: 0 0.5em 0 0.5em; text-align: left; border: none;\">\n",
       "        CUST_AGE\n",
       "    </td>\n",
       "    \n",
       "</tr>\n",
       "        \n",
       "            <tr style=\"background-color: hsl(120, 100.00%, 98.76%); border: none;\">\n",
       "    <td style=\"padding: 0 1em 0 0.5em; text-align: right; border: none;\">\n",
       "        +0.093\n",
       "    </td>\n",
       "    <td style=\"padding: 0 0.5em 0 0.5em; text-align: left; border: none;\">\n",
       "        PERCENT_WF_DVC_AGE\n",
       "    </td>\n",
       "    \n",
       "</tr>\n",
       "        \n",
       "            <tr style=\"background-color: hsl(120, 100.00%, 99.39%); border: none;\">\n",
       "    <td style=\"padding: 0 1em 0 0.5em; text-align: right; border: none;\">\n",
       "        +0.034\n",
       "    </td>\n",
       "    <td style=\"padding: 0 0.5em 0 0.5em; text-align: left; border: none;\">\n",
       "        DAYS_SINCE_BEING_CUST\n",
       "    </td>\n",
       "    \n",
       "</tr>\n",
       "        \n",
       "            <tr style=\"background-color: hsl(120, 100.00%, 99.61%); border: none;\">\n",
       "    <td style=\"padding: 0 1em 0 0.5em; text-align: right; border: none;\">\n",
       "        +0.018\n",
       "    </td>\n",
       "    <td style=\"padding: 0 0.5em 0 0.5em; text-align: left; border: none;\">\n",
       "        DAYS_SINCE_PH_NUM_UPDT\n",
       "    </td>\n",
       "    \n",
       "</tr>\n",
       "        \n",
       "        \n",
       "\n",
       "        \n",
       "        \n",
       "            <tr style=\"background-color: hsl(0, 100.00%, 99.28%); border: none;\">\n",
       "    <td style=\"padding: 0 1em 0 0.5em; text-align: right; border: none;\">\n",
       "        -0.043\n",
       "    </td>\n",
       "    <td style=\"padding: 0 0.5em 0 0.5em; text-align: left; border: none;\">\n",
       "        In_State_Transaction\n",
       "    </td>\n",
       "    \n",
       "</tr>\n",
       "        \n",
       "            <tr style=\"background-color: hsl(0, 100.00%, 98.64%); border: none;\">\n",
       "    <td style=\"padding: 0 1em 0 0.5em; text-align: right; border: none;\">\n",
       "        -0.106\n",
       "    </td>\n",
       "    <td style=\"padding: 0 0.5em 0 0.5em; text-align: left; border: none;\">\n",
       "        WF_dvc_age\n",
       "    </td>\n",
       "    \n",
       "</tr>\n",
       "        \n",
       "\n",
       "        </tbody>\n",
       "    </table>\n",
       "\n",
       "            \n",
       "        \n",
       "\n",
       "        \n",
       "\n",
       "\n",
       "\n",
       "    \n",
       "\n",
       "    \n",
       "\n",
       "    \n",
       "\n",
       "    \n",
       "\n",
       "\n",
       "    \n",
       "\n",
       "    \n",
       "\n",
       "    \n",
       "\n",
       "    \n",
       "\n",
       "    \n",
       "\n",
       "    \n",
       "\n",
       "\n",
       "    \n",
       "\n",
       "    \n",
       "\n",
       "    \n",
       "\n",
       "    \n",
       "\n",
       "    \n",
       "\n",
       "    \n",
       "\n",
       "\n",
       "\n"
      ],
      "text/plain": [
       "Explanation(estimator=\"XGBClassifier(base_score=0.5, booster='gbtree', colsample_bylevel=1,\\n              colsample_bynode=1, colsample_bytree=1, enable_categorical=False,\\n              gamma=0, gpu_id=-1, importance_type=None,\\n              interaction_constraints='', learning_rate=0.300000012,\\n              max_delta_step=0, max_depth=6, min_child_weight=1, missing=nan,\\n              monotone_constraints='()', n_estimators=100, n_jobs=4,\\n              num_parallel_tree=1, predictor='auto', random_state=0,\\n              reg_alpha=0, reg_lambda=1, scale_pos_weight=1, subsample=1,\\n              tree_method='exact', validate_parameters=1, verbosity=None)\", description='\\nFeatures with largest coefficients.\\n\\nFeature weights are calculated by following decision paths in trees\\nof an ensemble. Each leaf has an output score, and expected scores can also be\\nassigned to parent nodes. Contribution of one feature on the decision path\\nis how much expected score changes from parent to child. Weights of all \\nfeatures sum to the output score of the estimator.\\n\\nCaveats:\\n1. Feature weights just show if the feature contributed positively or\\n   negatively to the final score, and does not show how increasing or\\n   decreasing the feature value will change the prediction.\\n2. In some cases, feature weight can be close to zero for an important feature.\\n   For example, in a single tree that computes XOR function, the feature at the\\n   top of the tree will have zero weight because expected scores for both\\n   branches are equal, so decision at the top feature does not change the\\n   expected score. For an ensemble predicting XOR functions it might not be\\n   a problem, but it is not reliable if most trees happen to choose the same\\n   feature at the top.\\n', error=None, method='decision paths', is_regression=False, targets=[TargetExplanation(target=0, feature_weights=FeatureWeights(pos=[FeatureWeight(feature='ACCT_PRE_TRAN_AVAIL_BAL', weight=4.950679344518174, std=None, value=0.0), FeatureWeight(feature='TRAN_ACCT_PERCENT', weight=2.0332438709544203, std=None, value=0.0022967911393396503), FeatureWeight(feature='<BIAS>', weight=1.4617295579937395, std=None, value=1.0), FeatureWeight(feature='TRAN_AMT', weight=1.368920067708684, std=None, value=54.25), FeatureWeight(feature='DAYS_SINCE_PWD_UPDT', weight=0.3891659679927774, std=None, value=112.0), FeatureWeight(feature='ALERT_TRGR_CD_MOBL', weight=0.17229862045424743, std=None, value=1.0), FeatureWeight(feature='OPEN_ACCT_CT', weight=0.16318953068925093, std=None, value=4.0), FeatureWeight(feature='CUST_AGE', weight=0.11150245247459396, std=None, value=23.0), FeatureWeight(feature='PERCENT_WF_DVC_AGE', weight=0.09292621362426862, std=None, value=0.17557463306563278), FeatureWeight(feature='DAYS_SINCE_BEING_CUST', weight=0.03397756081130051, std=None, value=3611.0), FeatureWeight(feature='DAYS_SINCE_PH_NUM_UPDT', weight=0.01786303713187105, std=None, value=915.0)], neg=[FeatureWeight(feature='WF_dvc_age', weight=-0.1063058848332611, std=None, value=634.0), FeatureWeight(feature='In_State_Transaction', weight=-0.04269868469406733, std=None, value=1.0)], pos_remaining=0, neg_remaining=0), proba=0.9999762, score=-10.646491654825995, weighted_spans=None, heatmap=None)], feature_importances=None, decision_tree=None, highlight_spaces=None, transition_features=None, image=None)"
      ]
     },
     "execution_count": 121,
     "metadata": {},
     "output_type": "execute_result"
    }
   ],
   "source": [
    "explain_prediction(model, final_Test_df.iloc[0])"
   ]
  },
  {
   "cell_type": "code",
   "execution_count": 122,
   "metadata": {
    "colab": {
     "base_uri": "https://localhost:8080/"
    },
    "id": "zkzxcW-1L_I9",
    "outputId": "ac41c1eb-51e0-46ea-88e0-4f91c8d8b308"
   },
   "outputs": [
    {
     "data": {
      "text/plain": [
       "array([0, 0, 0, ..., 0, 0, 0], dtype=int64)"
      ]
     },
     "execution_count": 122,
     "metadata": {},
     "output_type": "execute_result"
    }
   ],
   "source": [
    "Predictions = model.predict(final_Test_df)\n",
    "Predictions"
   ]
  },
  {
   "cell_type": "code",
   "execution_count": 123,
   "metadata": {
    "id": "yy0j3Jg26VsV"
   },
   "outputs": [],
   "source": [
    "TestingResults = pd.DataFrame({'dataset_id':test_df['dataset_id'], \"FRAUD_NONFRAUD\": Predictions})"
   ]
  },
  {
   "cell_type": "code",
   "execution_count": 124,
   "metadata": {
    "colab": {
     "base_uri": "https://localhost:8080/"
    },
    "id": "SI3nCv5m6x4z",
    "outputId": "f20196dc-1e82-41ef-e0a0-715715f91999"
   },
   "outputs": [
    {
     "data": {
      "text/plain": [
       "0    71.2\n",
       "1    28.8\n",
       "Name: FRAUD_NONFRAUD, dtype: float64"
      ]
     },
     "execution_count": 124,
     "metadata": {},
     "output_type": "execute_result"
    }
   ],
   "source": [
    "TestingResults['FRAUD_NONFRAUD'].value_counts()/ len(TestingResults['FRAUD_NONFRAUD']) * 100.00"
   ]
  },
  {
   "cell_type": "code",
   "execution_count": 125,
   "metadata": {
    "id": "rbVkItGh6_nf"
   },
   "outputs": [],
   "source": [
    "TestingResults.to_csv('./testset_for_participants_Results.csv', index=False)"
   ]
  }
 ],
 "metadata": {
  "colab": {
   "authorship_tag": "ABX9TyM3O1VmmucxgchM9tMmjws8",
   "include_colab_link": true,
   "name": "WellsFargoCampusAnalyticsChallenge.ipynb",
   "provenance": []
  },
  "kernelspec": {
   "display_name": "Python 3",
   "language": "python",
   "name": "python3"
  },
  "language_info": {
   "codemirror_mode": {
    "name": "ipython",
    "version": 3
   },
   "file_extension": ".py",
   "mimetype": "text/x-python",
   "name": "python",
   "nbconvert_exporter": "python",
   "pygments_lexer": "ipython3",
   "version": "3.8.3"
  }
 },
 "nbformat": 4,
 "nbformat_minor": 1
}
